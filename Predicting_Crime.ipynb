{
 "cells": [
  {
   "cell_type": "code",
   "execution_count": 88,
   "metadata": {
    "collapsed": false
   },
   "outputs": [],
   "source": [
    "#reference :  https://elitedatascience.com/python-machine-learning-tutorial-scikit-learn\n",
    "#importing required packages\n",
    "import pandas as pd\n",
    "import numpy as np\n",
    "\n",
    "from sklearn.model_selection import train_test_split\n",
    "from sklearn import preprocessing\n",
    "from sklearn.tree import DecisionTreeClassifier\n",
    "\n",
    "from sklearn.pipeline import make_pipeline\n",
    "from sklearn.model_selection import GridSearchCV\n",
    "\n",
    "\n",
    "from sklearn.metrics import accuracy_score\n",
    "from imblearn.under_sampling import RandomUnderSampler\n",
    "\n",
    "from sklearn.ensemble import RandomForestClassifier, AdaBoostClassifier\n",
    "from sklearn.neighbors import KNeighborsClassifier\n",
    "\n",
    "#module to save models\n",
    "from sklearn.externals import joblib\n",
    "\n",
    "#importing tabpy client\n",
    "import tabpy_client"
   ]
  },
  {
   "cell_type": "code",
   "execution_count": 2,
   "metadata": {
    "collapsed": false
   },
   "outputs": [
    {
     "data": {
      "text/plain": [
       "(76228, 40)"
      ]
     },
     "execution_count": 2,
     "metadata": {},
     "output_type": "execute_result"
    }
   ],
   "source": [
    "#reading data from csv\n",
    "crime_raw_data = pd.read_csv('data/rpd_crime_2011_to_present.csv')\n",
    "crime_raw_data.shape"
   ]
  },
  {
   "cell_type": "code",
   "execution_count": 3,
   "metadata": {
    "collapsed": true
   },
   "outputs": [],
   "source": [
    "#converting city names to upper\n",
    "crime_raw_data.loc[:,['Address_City']] = crime_raw_data.Address_City.apply(str.upper)"
   ]
  },
  {
   "cell_type": "code",
   "execution_count": 4,
   "metadata": {
    "collapsed": false
   },
   "outputs": [
    {
     "data": {
      "text/plain": [
       "(75468, 40)"
      ]
     },
     "execution_count": 4,
     "metadata": {},
     "output_type": "execute_result"
    }
   ],
   "source": [
    "#only getting rochester data\n",
    "roc_crime_data = crime_raw_data.loc[crime_raw_data.Address_City=='ROCHESTER',:]\n",
    "#roc_crime_data = crime_raw_data.loc[crime_raw_data.Statute_Text!='Larceny',:]\n",
    "roc_crime_data.shape"
   ]
  },
  {
   "cell_type": "code",
   "execution_count": 5,
   "metadata": {
    "collapsed": false
   },
   "outputs": [],
   "source": [
    "roc_crime_data = roc_crime_data.dropna()"
   ]
  },
  {
   "cell_type": "code",
   "execution_count": 6,
   "metadata": {
    "collapsed": false
   },
   "outputs": [
    {
     "data": {
      "text/plain": [
       "56"
      ]
     },
     "execution_count": 6,
     "metadata": {},
     "output_type": "execute_result"
    }
   ],
   "source": [
    "len(roc_crime_data.Location_Type.unique())"
   ]
  },
  {
   "cell_type": "code",
   "execution_count": 7,
   "metadata": {
    "collapsed": false
   },
   "outputs": [
    {
     "data": {
      "text/plain": [
       "Index(['X', 'Y', 'OBJECTID', 'Geocode_Address', 'Geocode_Street',\n",
       "       'Case_Number', 'OccurredFrom_Date_Year', 'OccurredFrom_Date_Month',\n",
       "       'OccurredFrom_Time', 'OccurredFrom_Timestamp',\n",
       "       'OccurredThrough_Date_Year', 'OccurredThrough_Date_Month',\n",
       "       'OccurredThrough_Time', 'OccurredThrough_Timestamp',\n",
       "       'Reported_Date_Year', 'Reported_Date_Month', 'Reported_Time',\n",
       "       'Reported_Timestamp', 'Address_StreetFull', 'Address_City',\n",
       "       'Address_State', 'Patrol_Beat', 'Patrol_Section', 'Case_Status',\n",
       "       'Statute_Title', 'Statute_Section', 'Statute_Subsection',\n",
       "       'Statute_Degree', 'Statute_Class', 'Statute_Category', 'Statute_Text',\n",
       "       'Statute_Description', 'Statute_CrimeCategory', 'Statute_Attempted',\n",
       "       'Weapon_Description', 'Larceny_Type', 'Location_Type', 'Geo_Beat',\n",
       "       'Geo_Section', 'Geo_Section_Num'],\n",
       "      dtype='object')"
      ]
     },
     "execution_count": 7,
     "metadata": {},
     "output_type": "execute_result"
    }
   ],
   "source": [
    "roc_crime_data.columns"
   ]
  },
  {
   "cell_type": "code",
   "execution_count": 8,
   "metadata": {
    "collapsed": true
   },
   "outputs": [],
   "source": [
    "roc_crime_data_features = roc_crime_data.loc[:,['X','Y','OccurredFrom_Date_Month','OccurredFrom_Time']]\n",
    "label = roc_crime_data.loc[:,['Statute_Text']]"
   ]
  },
  {
   "cell_type": "code",
   "execution_count": 9,
   "metadata": {
    "collapsed": false
   },
   "outputs": [
    {
     "data": {
      "text/plain": [
       "Larceny                       44441\n",
       "Burglary                      14827\n",
       "Aggravated Assault             6350\n",
       "Robbery                        5106\n",
       "Motor Vehicle Theft            4149\n",
       "Murder                          222\n",
       "Non-Negligent Manslaughter       12\n",
       "Name: Statute_Text, dtype: int64"
      ]
     },
     "execution_count": 9,
     "metadata": {},
     "output_type": "execute_result"
    }
   ],
   "source": [
    "label.Statute_Text.value_counts()"
   ]
  },
  {
   "cell_type": "code",
   "execution_count": 11,
   "metadata": {
    "collapsed": false
   },
   "outputs": [],
   "source": [
    "#http://contrib.scikit-learn.org/imbalanced-learn/stable/auto_examples/under-sampling/plot_random_under_sampler.html\n",
    "\n",
    "# Apply the random under-sampling\n",
    "rus = RandomUnderSampler(ratio={'Larceny' : 20000},return_indices=True)\n",
    "X_resampled, y_resampled, idx_resampled = rus.fit_sample(roc_crime_data_features, label.Statute_Text.values)"
   ]
  },
  {
   "cell_type": "code",
   "execution_count": 12,
   "metadata": {
    "collapsed": false
   },
   "outputs": [
    {
     "data": {
      "text/plain": [
       "Larceny                       20000\n",
       "Burglary                      14827\n",
       "Aggravated Assault             6350\n",
       "Robbery                        5106\n",
       "Motor Vehicle Theft            4149\n",
       "Murder                          222\n",
       "Non-Negligent Manslaughter       12\n",
       "dtype: int64"
      ]
     },
     "execution_count": 12,
     "metadata": {},
     "output_type": "execute_result"
    }
   ],
   "source": [
    "pd.Series(y_resampled).value_counts()"
   ]
  },
  {
   "cell_type": "code",
   "execution_count": 13,
   "metadata": {
    "collapsed": false
   },
   "outputs": [],
   "source": [
    "#train test split\n",
    "X_train, X_test, y_train, y_test = train_test_split(roc_crime_data_features, label, \n",
    "                                                    test_size=0.2, \n",
    "                                                    random_state=123, \n",
    "                                                    stratify=label)"
   ]
  },
  {
   "cell_type": "code",
   "execution_count": 14,
   "metadata": {
    "collapsed": false
   },
   "outputs": [
    {
     "name": "stdout",
     "output_type": "stream",
     "text": [
      "0.591732126215\n"
     ]
    },
    {
     "data": {
      "text/plain": [
       "0.3947420360794221"
      ]
     },
     "execution_count": 14,
     "metadata": {},
     "output_type": "execute_result"
    }
   ],
   "source": [
    "#Baseline model\n",
    "#Since larceny is the highest crime type, check the accuracy by predicting all events as 'Larceny'\n",
    "\n",
    "print(np.mean(y_test.Statute_Text == 'Larceny'))\n",
    "np.mean(y_resampled == 'Larceny')"
   ]
  },
  {
   "cell_type": "code",
   "execution_count": 82,
   "metadata": {
    "collapsed": false
   },
   "outputs": [
    {
     "data": {
      "text/plain": [
       "(24693, 4)"
      ]
     },
     "execution_count": 82,
     "metadata": {},
     "output_type": "execute_result"
    }
   ],
   "source": [
    "X_train.shape"
   ]
  },
  {
   "cell_type": "code",
   "execution_count": 83,
   "metadata": {
    "collapsed": false
   },
   "outputs": [
    {
     "data": {
      "text/plain": [
       "(6174, 4)"
      ]
     },
     "execution_count": 83,
     "metadata": {},
     "output_type": "execute_result"
    }
   ],
   "source": [
    "X_test.shape"
   ]
  },
  {
   "cell_type": "code",
   "execution_count": 59,
   "metadata": {
    "collapsed": false
   },
   "outputs": [],
   "source": [
    "#creating pipeline for decision tree\n",
    "pipeline = make_pipeline(preprocessing.StandardScaler(), \n",
    "                         DecisionTreeClassifier(random_state=0))"
   ]
  },
  {
   "cell_type": "code",
   "execution_count": 60,
   "metadata": {
    "collapsed": true
   },
   "outputs": [],
   "source": [
    "#need to add more\n",
    "hyperparameters = { 'decisiontreeclassifier__criterion' : ['gini', 'entropy'],\n",
    "                  'decisiontreeclassifier__max_depth': [None, 100, 50, 10],\n",
    "                  'decisiontreeclassifier__splitter': ['best','random']}\n",
    "\n"
   ]
  },
  {
   "cell_type": "code",
   "execution_count": 33,
   "metadata": {
    "collapsed": false
   },
   "outputs": [],
   "source": [
    "#add time\n",
    "def gridSearch(pipeline,hyperparameters):\n",
    "    clft = GridSearchCV(pipeline, hyperparameters, cv=10)\n",
    "    # Fit and tune model\n",
    "    #clft.fit(X_train, y_train.Statute_Text.values)\n",
    "    clft.fit(X_resampled, y_resampled)\n",
    "    return clft"
   ]
  },
  {
   "cell_type": "code",
   "execution_count": 62,
   "metadata": {
    "collapsed": false
   },
   "outputs": [],
   "source": [
    "clf = gridSearch(pipeline,hyperparameters)"
   ]
  },
  {
   "cell_type": "code",
   "execution_count": 63,
   "metadata": {
    "collapsed": false
   },
   "outputs": [
    {
     "name": "stdout",
     "output_type": "stream",
     "text": [
      "{'decisiontreeclassifier__splitter': 'best', 'decisiontreeclassifier__criterion': 'gini', 'decisiontreeclassifier__max_depth': 10}\n"
     ]
    }
   ],
   "source": [
    "print(clf.best_params_)"
   ]
  },
  {
   "cell_type": "code",
   "execution_count": 64,
   "metadata": {
    "collapsed": false
   },
   "outputs": [
    {
     "name": "stdout",
     "output_type": "stream",
     "text": [
      "True\n"
     ]
    }
   ],
   "source": [
    "print(clf.refit)"
   ]
  },
  {
   "cell_type": "code",
   "execution_count": 65,
   "metadata": {
    "collapsed": false
   },
   "outputs": [],
   "source": [
    "y_pred = clf.predict(X_test)\n",
    "y_pred_prob = clf.predict_proba(X_test)"
   ]
  },
  {
   "cell_type": "code",
   "execution_count": 42,
   "metadata": {
    "collapsed": false
   },
   "outputs": [
    {
     "data": {
      "text/plain": [
       "array(['Aggravated Assault', 'Burglary', 'Larceny', 'Motor Vehicle Theft',\n",
       "       'Murder', 'Robbery'], dtype=object)"
      ]
     },
     "execution_count": 42,
     "metadata": {},
     "output_type": "execute_result"
    }
   ],
   "source": [
    "np.unique(y_pred)"
   ]
  },
  {
   "cell_type": "code",
   "execution_count": 66,
   "metadata": {
    "collapsed": false
   },
   "outputs": [
    {
     "data": {
      "text/plain": [
       "Larceny                7951\n",
       "Burglary               5421\n",
       "Aggravated Assault     1250\n",
       "Robbery                 284\n",
       "Motor Vehicle Theft     115\n",
       "Murder                    1\n",
       "dtype: int64"
      ]
     },
     "execution_count": 66,
     "metadata": {},
     "output_type": "execute_result"
    }
   ],
   "source": [
    "pd.Series(y_pred).value_counts()"
   ]
  },
  {
   "cell_type": "code",
   "execution_count": 67,
   "metadata": {
    "collapsed": false
   },
   "outputs": [
    {
     "data": {
      "text/plain": [
       "0.54207162827852484"
      ]
     },
     "execution_count": 67,
     "metadata": {},
     "output_type": "execute_result"
    }
   ],
   "source": [
    "accuracy_score(y_test, y_pred)"
   ]
  },
  {
   "cell_type": "code",
   "execution_count": 68,
   "metadata": {
    "collapsed": false
   },
   "outputs": [
    {
     "data": {
      "text/html": [
       "<div>\n",
       "<table border=\"1\" class=\"dataframe\">\n",
       "  <thead>\n",
       "    <tr style=\"text-align: right;\">\n",
       "      <th></th>\n",
       "      <th>0</th>\n",
       "      <th>1</th>\n",
       "      <th>2</th>\n",
       "      <th>3</th>\n",
       "      <th>4</th>\n",
       "      <th>5</th>\n",
       "      <th>6</th>\n",
       "    </tr>\n",
       "  </thead>\n",
       "  <tbody>\n",
       "    <tr>\n",
       "      <th>0</th>\n",
       "      <td>0.077143</td>\n",
       "      <td>0.200000</td>\n",
       "      <td>0.557143</td>\n",
       "      <td>0.100000</td>\n",
       "      <td>0.000000</td>\n",
       "      <td>0.000000</td>\n",
       "      <td>0.065714</td>\n",
       "    </tr>\n",
       "    <tr>\n",
       "      <th>1</th>\n",
       "      <td>0.015385</td>\n",
       "      <td>0.553846</td>\n",
       "      <td>0.276923</td>\n",
       "      <td>0.092308</td>\n",
       "      <td>0.000000</td>\n",
       "      <td>0.015385</td>\n",
       "      <td>0.046154</td>\n",
       "    </tr>\n",
       "    <tr>\n",
       "      <th>2</th>\n",
       "      <td>0.142857</td>\n",
       "      <td>0.420635</td>\n",
       "      <td>0.261905</td>\n",
       "      <td>0.087302</td>\n",
       "      <td>0.000000</td>\n",
       "      <td>0.000000</td>\n",
       "      <td>0.087302</td>\n",
       "    </tr>\n",
       "    <tr>\n",
       "      <th>3</th>\n",
       "      <td>0.000000</td>\n",
       "      <td>0.026316</td>\n",
       "      <td>0.973684</td>\n",
       "      <td>0.000000</td>\n",
       "      <td>0.000000</td>\n",
       "      <td>0.000000</td>\n",
       "      <td>0.000000</td>\n",
       "    </tr>\n",
       "    <tr>\n",
       "      <th>4</th>\n",
       "      <td>0.036674</td>\n",
       "      <td>0.246908</td>\n",
       "      <td>0.614925</td>\n",
       "      <td>0.048614</td>\n",
       "      <td>0.000853</td>\n",
       "      <td>0.000000</td>\n",
       "      <td>0.052026</td>\n",
       "    </tr>\n",
       "    <tr>\n",
       "      <th>5</th>\n",
       "      <td>0.136252</td>\n",
       "      <td>0.361121</td>\n",
       "      <td>0.315937</td>\n",
       "      <td>0.072504</td>\n",
       "      <td>0.006305</td>\n",
       "      <td>0.000350</td>\n",
       "      <td>0.107531</td>\n",
       "    </tr>\n",
       "    <tr>\n",
       "      <th>6</th>\n",
       "      <td>0.064722</td>\n",
       "      <td>0.165907</td>\n",
       "      <td>0.599818</td>\n",
       "      <td>0.083865</td>\n",
       "      <td>0.001823</td>\n",
       "      <td>0.000000</td>\n",
       "      <td>0.083865</td>\n",
       "    </tr>\n",
       "    <tr>\n",
       "      <th>7</th>\n",
       "      <td>0.000000</td>\n",
       "      <td>0.142857</td>\n",
       "      <td>0.755102</td>\n",
       "      <td>0.071429</td>\n",
       "      <td>0.000000</td>\n",
       "      <td>0.000000</td>\n",
       "      <td>0.030612</td>\n",
       "    </tr>\n",
       "    <tr>\n",
       "      <th>8</th>\n",
       "      <td>0.150307</td>\n",
       "      <td>0.297546</td>\n",
       "      <td>0.331288</td>\n",
       "      <td>0.092025</td>\n",
       "      <td>0.006135</td>\n",
       "      <td>0.000000</td>\n",
       "      <td>0.122699</td>\n",
       "    </tr>\n",
       "    <tr>\n",
       "      <th>9</th>\n",
       "      <td>0.218009</td>\n",
       "      <td>0.248815</td>\n",
       "      <td>0.306872</td>\n",
       "      <td>0.082938</td>\n",
       "      <td>0.010664</td>\n",
       "      <td>0.000000</td>\n",
       "      <td>0.132701</td>\n",
       "    </tr>\n",
       "    <tr>\n",
       "      <th>10</th>\n",
       "      <td>0.000000</td>\n",
       "      <td>0.200000</td>\n",
       "      <td>0.700000</td>\n",
       "      <td>0.100000</td>\n",
       "      <td>0.000000</td>\n",
       "      <td>0.000000</td>\n",
       "      <td>0.000000</td>\n",
       "    </tr>\n",
       "    <tr>\n",
       "      <th>11</th>\n",
       "      <td>0.144000</td>\n",
       "      <td>0.392000</td>\n",
       "      <td>0.248000</td>\n",
       "      <td>0.080000</td>\n",
       "      <td>0.000000</td>\n",
       "      <td>0.000000</td>\n",
       "      <td>0.136000</td>\n",
       "    </tr>\n",
       "    <tr>\n",
       "      <th>12</th>\n",
       "      <td>0.026432</td>\n",
       "      <td>0.008811</td>\n",
       "      <td>0.944934</td>\n",
       "      <td>0.013216</td>\n",
       "      <td>0.000000</td>\n",
       "      <td>0.000000</td>\n",
       "      <td>0.006608</td>\n",
       "    </tr>\n",
       "    <tr>\n",
       "      <th>13</th>\n",
       "      <td>0.118644</td>\n",
       "      <td>0.488136</td>\n",
       "      <td>0.264407</td>\n",
       "      <td>0.050847</td>\n",
       "      <td>0.003390</td>\n",
       "      <td>0.000000</td>\n",
       "      <td>0.074576</td>\n",
       "    </tr>\n",
       "    <tr>\n",
       "      <th>14</th>\n",
       "      <td>0.107527</td>\n",
       "      <td>0.236559</td>\n",
       "      <td>0.548387</td>\n",
       "      <td>0.043011</td>\n",
       "      <td>0.000000</td>\n",
       "      <td>0.000000</td>\n",
       "      <td>0.064516</td>\n",
       "    </tr>\n",
       "    <tr>\n",
       "      <th>15</th>\n",
       "      <td>0.000000</td>\n",
       "      <td>0.173913</td>\n",
       "      <td>0.652174</td>\n",
       "      <td>0.173913</td>\n",
       "      <td>0.000000</td>\n",
       "      <td>0.000000</td>\n",
       "      <td>0.000000</td>\n",
       "    </tr>\n",
       "    <tr>\n",
       "      <th>16</th>\n",
       "      <td>0.225709</td>\n",
       "      <td>0.197368</td>\n",
       "      <td>0.266194</td>\n",
       "      <td>0.120445</td>\n",
       "      <td>0.008097</td>\n",
       "      <td>0.000000</td>\n",
       "      <td>0.182186</td>\n",
       "    </tr>\n",
       "    <tr>\n",
       "      <th>17</th>\n",
       "      <td>0.144828</td>\n",
       "      <td>0.248276</td>\n",
       "      <td>0.351724</td>\n",
       "      <td>0.151724</td>\n",
       "      <td>0.006897</td>\n",
       "      <td>0.000000</td>\n",
       "      <td>0.096552</td>\n",
       "    </tr>\n",
       "    <tr>\n",
       "      <th>18</th>\n",
       "      <td>0.229091</td>\n",
       "      <td>0.352727</td>\n",
       "      <td>0.174545</td>\n",
       "      <td>0.098182</td>\n",
       "      <td>0.014545</td>\n",
       "      <td>0.000000</td>\n",
       "      <td>0.130909</td>\n",
       "    </tr>\n",
       "    <tr>\n",
       "      <th>19</th>\n",
       "      <td>0.054688</td>\n",
       "      <td>0.117188</td>\n",
       "      <td>0.609375</td>\n",
       "      <td>0.093750</td>\n",
       "      <td>0.007812</td>\n",
       "      <td>0.000000</td>\n",
       "      <td>0.117188</td>\n",
       "    </tr>\n",
       "    <tr>\n",
       "      <th>20</th>\n",
       "      <td>0.000000</td>\n",
       "      <td>0.259259</td>\n",
       "      <td>0.592593</td>\n",
       "      <td>0.111111</td>\n",
       "      <td>0.000000</td>\n",
       "      <td>0.000000</td>\n",
       "      <td>0.037037</td>\n",
       "    </tr>\n",
       "    <tr>\n",
       "      <th>21</th>\n",
       "      <td>0.086792</td>\n",
       "      <td>0.083019</td>\n",
       "      <td>0.690566</td>\n",
       "      <td>0.045283</td>\n",
       "      <td>0.003774</td>\n",
       "      <td>0.000000</td>\n",
       "      <td>0.090566</td>\n",
       "    </tr>\n",
       "    <tr>\n",
       "      <th>22</th>\n",
       "      <td>0.066667</td>\n",
       "      <td>0.333333</td>\n",
       "      <td>0.426667</td>\n",
       "      <td>0.133333</td>\n",
       "      <td>0.000000</td>\n",
       "      <td>0.000000</td>\n",
       "      <td>0.040000</td>\n",
       "    </tr>\n",
       "    <tr>\n",
       "      <th>23</th>\n",
       "      <td>0.225709</td>\n",
       "      <td>0.197368</td>\n",
       "      <td>0.266194</td>\n",
       "      <td>0.120445</td>\n",
       "      <td>0.008097</td>\n",
       "      <td>0.000000</td>\n",
       "      <td>0.182186</td>\n",
       "    </tr>\n",
       "    <tr>\n",
       "      <th>24</th>\n",
       "      <td>0.064722</td>\n",
       "      <td>0.165907</td>\n",
       "      <td>0.599818</td>\n",
       "      <td>0.083865</td>\n",
       "      <td>0.001823</td>\n",
       "      <td>0.000000</td>\n",
       "      <td>0.083865</td>\n",
       "    </tr>\n",
       "    <tr>\n",
       "      <th>25</th>\n",
       "      <td>0.015625</td>\n",
       "      <td>0.031250</td>\n",
       "      <td>0.890625</td>\n",
       "      <td>0.000000</td>\n",
       "      <td>0.000000</td>\n",
       "      <td>0.000000</td>\n",
       "      <td>0.062500</td>\n",
       "    </tr>\n",
       "    <tr>\n",
       "      <th>26</th>\n",
       "      <td>0.229091</td>\n",
       "      <td>0.352727</td>\n",
       "      <td>0.174545</td>\n",
       "      <td>0.098182</td>\n",
       "      <td>0.014545</td>\n",
       "      <td>0.000000</td>\n",
       "      <td>0.130909</td>\n",
       "    </tr>\n",
       "    <tr>\n",
       "      <th>27</th>\n",
       "      <td>0.000000</td>\n",
       "      <td>0.322581</td>\n",
       "      <td>0.451613</td>\n",
       "      <td>0.161290</td>\n",
       "      <td>0.000000</td>\n",
       "      <td>0.000000</td>\n",
       "      <td>0.064516</td>\n",
       "    </tr>\n",
       "    <tr>\n",
       "      <th>28</th>\n",
       "      <td>0.136252</td>\n",
       "      <td>0.361121</td>\n",
       "      <td>0.315937</td>\n",
       "      <td>0.072504</td>\n",
       "      <td>0.006305</td>\n",
       "      <td>0.000350</td>\n",
       "      <td>0.107531</td>\n",
       "    </tr>\n",
       "    <tr>\n",
       "      <th>29</th>\n",
       "      <td>0.234146</td>\n",
       "      <td>0.326829</td>\n",
       "      <td>0.224390</td>\n",
       "      <td>0.058537</td>\n",
       "      <td>0.014634</td>\n",
       "      <td>0.000000</td>\n",
       "      <td>0.141463</td>\n",
       "    </tr>\n",
       "    <tr>\n",
       "      <th>...</th>\n",
       "      <td>...</td>\n",
       "      <td>...</td>\n",
       "      <td>...</td>\n",
       "      <td>...</td>\n",
       "      <td>...</td>\n",
       "      <td>...</td>\n",
       "      <td>...</td>\n",
       "    </tr>\n",
       "    <tr>\n",
       "      <th>14992</th>\n",
       "      <td>0.134206</td>\n",
       "      <td>0.457447</td>\n",
       "      <td>0.273322</td>\n",
       "      <td>0.069558</td>\n",
       "      <td>0.002455</td>\n",
       "      <td>0.000000</td>\n",
       "      <td>0.063011</td>\n",
       "    </tr>\n",
       "    <tr>\n",
       "      <th>14993</th>\n",
       "      <td>0.036674</td>\n",
       "      <td>0.246908</td>\n",
       "      <td>0.614925</td>\n",
       "      <td>0.048614</td>\n",
       "      <td>0.000853</td>\n",
       "      <td>0.000000</td>\n",
       "      <td>0.052026</td>\n",
       "    </tr>\n",
       "    <tr>\n",
       "      <th>14994</th>\n",
       "      <td>0.140845</td>\n",
       "      <td>0.394366</td>\n",
       "      <td>0.183099</td>\n",
       "      <td>0.183099</td>\n",
       "      <td>0.014085</td>\n",
       "      <td>0.000000</td>\n",
       "      <td>0.084507</td>\n",
       "    </tr>\n",
       "    <tr>\n",
       "      <th>14995</th>\n",
       "      <td>0.036674</td>\n",
       "      <td>0.246908</td>\n",
       "      <td>0.614925</td>\n",
       "      <td>0.048614</td>\n",
       "      <td>0.000853</td>\n",
       "      <td>0.000000</td>\n",
       "      <td>0.052026</td>\n",
       "    </tr>\n",
       "    <tr>\n",
       "      <th>14996</th>\n",
       "      <td>0.145294</td>\n",
       "      <td>0.355294</td>\n",
       "      <td>0.335294</td>\n",
       "      <td>0.060000</td>\n",
       "      <td>0.006471</td>\n",
       "      <td>0.000000</td>\n",
       "      <td>0.097647</td>\n",
       "    </tr>\n",
       "    <tr>\n",
       "      <th>14997</th>\n",
       "      <td>0.064722</td>\n",
       "      <td>0.165907</td>\n",
       "      <td>0.599818</td>\n",
       "      <td>0.083865</td>\n",
       "      <td>0.001823</td>\n",
       "      <td>0.000000</td>\n",
       "      <td>0.083865</td>\n",
       "    </tr>\n",
       "    <tr>\n",
       "      <th>14998</th>\n",
       "      <td>0.077491</td>\n",
       "      <td>0.523985</td>\n",
       "      <td>0.243542</td>\n",
       "      <td>0.125461</td>\n",
       "      <td>0.000000</td>\n",
       "      <td>0.000000</td>\n",
       "      <td>0.029520</td>\n",
       "    </tr>\n",
       "    <tr>\n",
       "      <th>14999</th>\n",
       "      <td>0.070588</td>\n",
       "      <td>0.252941</td>\n",
       "      <td>0.376471</td>\n",
       "      <td>0.058824</td>\n",
       "      <td>0.000000</td>\n",
       "      <td>0.000000</td>\n",
       "      <td>0.241176</td>\n",
       "    </tr>\n",
       "    <tr>\n",
       "      <th>15000</th>\n",
       "      <td>0.064722</td>\n",
       "      <td>0.165907</td>\n",
       "      <td>0.599818</td>\n",
       "      <td>0.083865</td>\n",
       "      <td>0.001823</td>\n",
       "      <td>0.000000</td>\n",
       "      <td>0.083865</td>\n",
       "    </tr>\n",
       "    <tr>\n",
       "      <th>15001</th>\n",
       "      <td>0.036674</td>\n",
       "      <td>0.246908</td>\n",
       "      <td>0.614925</td>\n",
       "      <td>0.048614</td>\n",
       "      <td>0.000853</td>\n",
       "      <td>0.000000</td>\n",
       "      <td>0.052026</td>\n",
       "    </tr>\n",
       "    <tr>\n",
       "      <th>15002</th>\n",
       "      <td>0.000000</td>\n",
       "      <td>0.021739</td>\n",
       "      <td>0.934783</td>\n",
       "      <td>0.021739</td>\n",
       "      <td>0.000000</td>\n",
       "      <td>0.000000</td>\n",
       "      <td>0.021739</td>\n",
       "    </tr>\n",
       "    <tr>\n",
       "      <th>15003</th>\n",
       "      <td>0.109589</td>\n",
       "      <td>0.375000</td>\n",
       "      <td>0.361301</td>\n",
       "      <td>0.095890</td>\n",
       "      <td>0.001712</td>\n",
       "      <td>0.000000</td>\n",
       "      <td>0.056507</td>\n",
       "    </tr>\n",
       "    <tr>\n",
       "      <th>15004</th>\n",
       "      <td>0.063131</td>\n",
       "      <td>0.462121</td>\n",
       "      <td>0.353535</td>\n",
       "      <td>0.053030</td>\n",
       "      <td>0.005051</td>\n",
       "      <td>0.000000</td>\n",
       "      <td>0.063131</td>\n",
       "    </tr>\n",
       "    <tr>\n",
       "      <th>15005</th>\n",
       "      <td>0.109589</td>\n",
       "      <td>0.375000</td>\n",
       "      <td>0.361301</td>\n",
       "      <td>0.095890</td>\n",
       "      <td>0.001712</td>\n",
       "      <td>0.000000</td>\n",
       "      <td>0.056507</td>\n",
       "    </tr>\n",
       "    <tr>\n",
       "      <th>15006</th>\n",
       "      <td>0.277778</td>\n",
       "      <td>0.111111</td>\n",
       "      <td>0.111111</td>\n",
       "      <td>0.166667</td>\n",
       "      <td>0.055556</td>\n",
       "      <td>0.000000</td>\n",
       "      <td>0.277778</td>\n",
       "    </tr>\n",
       "    <tr>\n",
       "      <th>15007</th>\n",
       "      <td>0.000000</td>\n",
       "      <td>0.085106</td>\n",
       "      <td>0.914894</td>\n",
       "      <td>0.000000</td>\n",
       "      <td>0.000000</td>\n",
       "      <td>0.000000</td>\n",
       "      <td>0.000000</td>\n",
       "    </tr>\n",
       "    <tr>\n",
       "      <th>15008</th>\n",
       "      <td>0.070922</td>\n",
       "      <td>0.333333</td>\n",
       "      <td>0.453901</td>\n",
       "      <td>0.092199</td>\n",
       "      <td>0.000000</td>\n",
       "      <td>0.000000</td>\n",
       "      <td>0.049645</td>\n",
       "    </tr>\n",
       "    <tr>\n",
       "      <th>15009</th>\n",
       "      <td>0.163366</td>\n",
       "      <td>0.079208</td>\n",
       "      <td>0.549505</td>\n",
       "      <td>0.064356</td>\n",
       "      <td>0.000000</td>\n",
       "      <td>0.000000</td>\n",
       "      <td>0.143564</td>\n",
       "    </tr>\n",
       "    <tr>\n",
       "      <th>15010</th>\n",
       "      <td>0.119760</td>\n",
       "      <td>0.508982</td>\n",
       "      <td>0.215569</td>\n",
       "      <td>0.071856</td>\n",
       "      <td>0.005988</td>\n",
       "      <td>0.000000</td>\n",
       "      <td>0.077844</td>\n",
       "    </tr>\n",
       "    <tr>\n",
       "      <th>15011</th>\n",
       "      <td>0.036674</td>\n",
       "      <td>0.246908</td>\n",
       "      <td>0.614925</td>\n",
       "      <td>0.048614</td>\n",
       "      <td>0.000853</td>\n",
       "      <td>0.000000</td>\n",
       "      <td>0.052026</td>\n",
       "    </tr>\n",
       "    <tr>\n",
       "      <th>15012</th>\n",
       "      <td>0.069048</td>\n",
       "      <td>0.095238</td>\n",
       "      <td>0.679762</td>\n",
       "      <td>0.045238</td>\n",
       "      <td>0.001190</td>\n",
       "      <td>0.000000</td>\n",
       "      <td>0.109524</td>\n",
       "    </tr>\n",
       "    <tr>\n",
       "      <th>15013</th>\n",
       "      <td>0.033577</td>\n",
       "      <td>0.383942</td>\n",
       "      <td>0.494891</td>\n",
       "      <td>0.056934</td>\n",
       "      <td>0.000000</td>\n",
       "      <td>0.000000</td>\n",
       "      <td>0.030657</td>\n",
       "    </tr>\n",
       "    <tr>\n",
       "      <th>15014</th>\n",
       "      <td>0.136252</td>\n",
       "      <td>0.361121</td>\n",
       "      <td>0.315937</td>\n",
       "      <td>0.072504</td>\n",
       "      <td>0.006305</td>\n",
       "      <td>0.000350</td>\n",
       "      <td>0.107531</td>\n",
       "    </tr>\n",
       "    <tr>\n",
       "      <th>15015</th>\n",
       "      <td>0.369004</td>\n",
       "      <td>0.066421</td>\n",
       "      <td>0.221402</td>\n",
       "      <td>0.103321</td>\n",
       "      <td>0.007380</td>\n",
       "      <td>0.000000</td>\n",
       "      <td>0.232472</td>\n",
       "    </tr>\n",
       "    <tr>\n",
       "      <th>15016</th>\n",
       "      <td>0.069048</td>\n",
       "      <td>0.095238</td>\n",
       "      <td>0.679762</td>\n",
       "      <td>0.045238</td>\n",
       "      <td>0.001190</td>\n",
       "      <td>0.000000</td>\n",
       "      <td>0.109524</td>\n",
       "    </tr>\n",
       "    <tr>\n",
       "      <th>15017</th>\n",
       "      <td>0.144000</td>\n",
       "      <td>0.392000</td>\n",
       "      <td>0.248000</td>\n",
       "      <td>0.080000</td>\n",
       "      <td>0.000000</td>\n",
       "      <td>0.000000</td>\n",
       "      <td>0.136000</td>\n",
       "    </tr>\n",
       "    <tr>\n",
       "      <th>15018</th>\n",
       "      <td>0.145294</td>\n",
       "      <td>0.355294</td>\n",
       "      <td>0.335294</td>\n",
       "      <td>0.060000</td>\n",
       "      <td>0.006471</td>\n",
       "      <td>0.000000</td>\n",
       "      <td>0.097647</td>\n",
       "    </tr>\n",
       "    <tr>\n",
       "      <th>15019</th>\n",
       "      <td>0.123711</td>\n",
       "      <td>0.329897</td>\n",
       "      <td>0.360825</td>\n",
       "      <td>0.123711</td>\n",
       "      <td>0.000000</td>\n",
       "      <td>0.000000</td>\n",
       "      <td>0.061856</td>\n",
       "    </tr>\n",
       "    <tr>\n",
       "      <th>15020</th>\n",
       "      <td>0.064722</td>\n",
       "      <td>0.165907</td>\n",
       "      <td>0.599818</td>\n",
       "      <td>0.083865</td>\n",
       "      <td>0.001823</td>\n",
       "      <td>0.000000</td>\n",
       "      <td>0.083865</td>\n",
       "    </tr>\n",
       "    <tr>\n",
       "      <th>15021</th>\n",
       "      <td>0.064722</td>\n",
       "      <td>0.165907</td>\n",
       "      <td>0.599818</td>\n",
       "      <td>0.083865</td>\n",
       "      <td>0.001823</td>\n",
       "      <td>0.000000</td>\n",
       "      <td>0.083865</td>\n",
       "    </tr>\n",
       "  </tbody>\n",
       "</table>\n",
       "<p>15022 rows × 7 columns</p>\n",
       "</div>"
      ],
      "text/plain": [
       "              0         1         2         3         4         5         6\n",
       "0      0.077143  0.200000  0.557143  0.100000  0.000000  0.000000  0.065714\n",
       "1      0.015385  0.553846  0.276923  0.092308  0.000000  0.015385  0.046154\n",
       "2      0.142857  0.420635  0.261905  0.087302  0.000000  0.000000  0.087302\n",
       "3      0.000000  0.026316  0.973684  0.000000  0.000000  0.000000  0.000000\n",
       "4      0.036674  0.246908  0.614925  0.048614  0.000853  0.000000  0.052026\n",
       "5      0.136252  0.361121  0.315937  0.072504  0.006305  0.000350  0.107531\n",
       "6      0.064722  0.165907  0.599818  0.083865  0.001823  0.000000  0.083865\n",
       "7      0.000000  0.142857  0.755102  0.071429  0.000000  0.000000  0.030612\n",
       "8      0.150307  0.297546  0.331288  0.092025  0.006135  0.000000  0.122699\n",
       "9      0.218009  0.248815  0.306872  0.082938  0.010664  0.000000  0.132701\n",
       "10     0.000000  0.200000  0.700000  0.100000  0.000000  0.000000  0.000000\n",
       "11     0.144000  0.392000  0.248000  0.080000  0.000000  0.000000  0.136000\n",
       "12     0.026432  0.008811  0.944934  0.013216  0.000000  0.000000  0.006608\n",
       "13     0.118644  0.488136  0.264407  0.050847  0.003390  0.000000  0.074576\n",
       "14     0.107527  0.236559  0.548387  0.043011  0.000000  0.000000  0.064516\n",
       "15     0.000000  0.173913  0.652174  0.173913  0.000000  0.000000  0.000000\n",
       "16     0.225709  0.197368  0.266194  0.120445  0.008097  0.000000  0.182186\n",
       "17     0.144828  0.248276  0.351724  0.151724  0.006897  0.000000  0.096552\n",
       "18     0.229091  0.352727  0.174545  0.098182  0.014545  0.000000  0.130909\n",
       "19     0.054688  0.117188  0.609375  0.093750  0.007812  0.000000  0.117188\n",
       "20     0.000000  0.259259  0.592593  0.111111  0.000000  0.000000  0.037037\n",
       "21     0.086792  0.083019  0.690566  0.045283  0.003774  0.000000  0.090566\n",
       "22     0.066667  0.333333  0.426667  0.133333  0.000000  0.000000  0.040000\n",
       "23     0.225709  0.197368  0.266194  0.120445  0.008097  0.000000  0.182186\n",
       "24     0.064722  0.165907  0.599818  0.083865  0.001823  0.000000  0.083865\n",
       "25     0.015625  0.031250  0.890625  0.000000  0.000000  0.000000  0.062500\n",
       "26     0.229091  0.352727  0.174545  0.098182  0.014545  0.000000  0.130909\n",
       "27     0.000000  0.322581  0.451613  0.161290  0.000000  0.000000  0.064516\n",
       "28     0.136252  0.361121  0.315937  0.072504  0.006305  0.000350  0.107531\n",
       "29     0.234146  0.326829  0.224390  0.058537  0.014634  0.000000  0.141463\n",
       "...         ...       ...       ...       ...       ...       ...       ...\n",
       "14992  0.134206  0.457447  0.273322  0.069558  0.002455  0.000000  0.063011\n",
       "14993  0.036674  0.246908  0.614925  0.048614  0.000853  0.000000  0.052026\n",
       "14994  0.140845  0.394366  0.183099  0.183099  0.014085  0.000000  0.084507\n",
       "14995  0.036674  0.246908  0.614925  0.048614  0.000853  0.000000  0.052026\n",
       "14996  0.145294  0.355294  0.335294  0.060000  0.006471  0.000000  0.097647\n",
       "14997  0.064722  0.165907  0.599818  0.083865  0.001823  0.000000  0.083865\n",
       "14998  0.077491  0.523985  0.243542  0.125461  0.000000  0.000000  0.029520\n",
       "14999  0.070588  0.252941  0.376471  0.058824  0.000000  0.000000  0.241176\n",
       "15000  0.064722  0.165907  0.599818  0.083865  0.001823  0.000000  0.083865\n",
       "15001  0.036674  0.246908  0.614925  0.048614  0.000853  0.000000  0.052026\n",
       "15002  0.000000  0.021739  0.934783  0.021739  0.000000  0.000000  0.021739\n",
       "15003  0.109589  0.375000  0.361301  0.095890  0.001712  0.000000  0.056507\n",
       "15004  0.063131  0.462121  0.353535  0.053030  0.005051  0.000000  0.063131\n",
       "15005  0.109589  0.375000  0.361301  0.095890  0.001712  0.000000  0.056507\n",
       "15006  0.277778  0.111111  0.111111  0.166667  0.055556  0.000000  0.277778\n",
       "15007  0.000000  0.085106  0.914894  0.000000  0.000000  0.000000  0.000000\n",
       "15008  0.070922  0.333333  0.453901  0.092199  0.000000  0.000000  0.049645\n",
       "15009  0.163366  0.079208  0.549505  0.064356  0.000000  0.000000  0.143564\n",
       "15010  0.119760  0.508982  0.215569  0.071856  0.005988  0.000000  0.077844\n",
       "15011  0.036674  0.246908  0.614925  0.048614  0.000853  0.000000  0.052026\n",
       "15012  0.069048  0.095238  0.679762  0.045238  0.001190  0.000000  0.109524\n",
       "15013  0.033577  0.383942  0.494891  0.056934  0.000000  0.000000  0.030657\n",
       "15014  0.136252  0.361121  0.315937  0.072504  0.006305  0.000350  0.107531\n",
       "15015  0.369004  0.066421  0.221402  0.103321  0.007380  0.000000  0.232472\n",
       "15016  0.069048  0.095238  0.679762  0.045238  0.001190  0.000000  0.109524\n",
       "15017  0.144000  0.392000  0.248000  0.080000  0.000000  0.000000  0.136000\n",
       "15018  0.145294  0.355294  0.335294  0.060000  0.006471  0.000000  0.097647\n",
       "15019  0.123711  0.329897  0.360825  0.123711  0.000000  0.000000  0.061856\n",
       "15020  0.064722  0.165907  0.599818  0.083865  0.001823  0.000000  0.083865\n",
       "15021  0.064722  0.165907  0.599818  0.083865  0.001823  0.000000  0.083865\n",
       "\n",
       "[15022 rows x 7 columns]"
      ]
     },
     "execution_count": 68,
     "metadata": {},
     "output_type": "execute_result"
    }
   ],
   "source": [
    "pd.DataFrame(y_pred_prob)\n"
   ]
  },
  {
   "cell_type": "code",
   "execution_count": 45,
   "metadata": {
    "collapsed": false
   },
   "outputs": [
    {
     "data": {
      "text/plain": [
       "array(['Aggravated Assault', 'Burglary', 'Larceny', 'Motor Vehicle Theft',\n",
       "       'Murder', 'Non-Negligent Manslaughter', 'Robbery'], dtype=object)"
      ]
     },
     "execution_count": 45,
     "metadata": {},
     "output_type": "execute_result"
    }
   ],
   "source": [
    "clf.best_estimator_.classes_"
   ]
  },
  {
   "cell_type": "code",
   "execution_count": 101,
   "metadata": {
    "collapsed": true
   },
   "outputs": [],
   "source": [
    "#pipeline for random forests\n",
    "pipeline2 = make_pipeline(preprocessing.StandardScaler(), \n",
    "                         RandomForestClassifier(max_features=None))"
   ]
  },
  {
   "cell_type": "code",
   "execution_count": 102,
   "metadata": {
    "collapsed": true
   },
   "outputs": [],
   "source": [
    "hyperparameters2 = { 'randomforestclassifier__criterion' : ['gini', 'entropy'],\n",
    "                  'randomforestclassifier__max_depth': [None, 100, 50, 10, 5]}\n"
   ]
  },
  {
   "cell_type": "code",
   "execution_count": 103,
   "metadata": {
    "collapsed": false
   },
   "outputs": [],
   "source": [
    "clf2 = gridSearch(pipeline2,hyperparameters2)"
   ]
  },
  {
   "cell_type": "code",
   "execution_count": 105,
   "metadata": {
    "collapsed": false
   },
   "outputs": [
    {
     "name": "stdout",
     "output_type": "stream",
     "text": [
      "{'randomforestclassifier__criterion': 'gini', 'randomforestclassifier__max_depth': 10}\n",
      "True\n"
     ]
    }
   ],
   "source": [
    "print(clf2.best_params_)\n",
    "print(clf2.refit)\n"
   ]
  },
  {
   "cell_type": "code",
   "execution_count": 106,
   "metadata": {
    "collapsed": true
   },
   "outputs": [],
   "source": [
    "y_pred = clf2.predict(X_test)\n",
    "y_pred_prob = clf2.predict_proba(X_test)"
   ]
  },
  {
   "cell_type": "code",
   "execution_count": 107,
   "metadata": {
    "collapsed": false
   },
   "outputs": [
    {
     "data": {
      "text/plain": [
       "Larceny                8718\n",
       "Burglary               5057\n",
       "Aggravated Assault     1019\n",
       "Robbery                 184\n",
       "Motor Vehicle Theft      42\n",
       "Murder                    2\n",
       "dtype: int64"
      ]
     },
     "execution_count": 107,
     "metadata": {},
     "output_type": "execute_result"
    }
   ],
   "source": [
    "pd.Series(y_pred).value_counts()"
   ]
  },
  {
   "cell_type": "code",
   "execution_count": 108,
   "metadata": {
    "collapsed": false
   },
   "outputs": [
    {
     "data": {
      "text/plain": [
       "0.59099986686193584"
      ]
     },
     "execution_count": 108,
     "metadata": {},
     "output_type": "execute_result"
    }
   ],
   "source": [
    "accuracy_score(y_test, y_pred)"
   ]
  },
  {
   "cell_type": "code",
   "execution_count": 90,
   "metadata": {
    "collapsed": true
   },
   "outputs": [],
   "source": [
    "#pipeline for adaboost\n",
    "pipeline3 = make_pipeline(preprocessing.StandardScaler(), \n",
    "                         AdaBoostClassifier())"
   ]
  },
  {
   "cell_type": "code",
   "execution_count": 91,
   "metadata": {
    "collapsed": true
   },
   "outputs": [],
   "source": [
    "hyperparameters3 = {  'adaboostclassifier__algorithm' : ['SAMME', 'SAMME.R'],\n",
    "                  'adaboostclassifier__n_estimators': [100, 50, 35, 25, 10]}\n"
   ]
  },
  {
   "cell_type": "code",
   "execution_count": 92,
   "metadata": {
    "collapsed": true
   },
   "outputs": [],
   "source": [
    "clf3 = gridSearch(pipeline3,hyperparameters3)"
   ]
  },
  {
   "cell_type": "code",
   "execution_count": 93,
   "metadata": {
    "collapsed": false
   },
   "outputs": [
    {
     "name": "stdout",
     "output_type": "stream",
     "text": [
      "{'adaboostclassifier__algorithm': 'SAMME.R', 'adaboostclassifier__n_estimators': 25}\n",
      "True\n"
     ]
    }
   ],
   "source": [
    "print(clf3.best_params_)\n",
    "print(clf3.refit)"
   ]
  },
  {
   "cell_type": "code",
   "execution_count": 94,
   "metadata": {
    "collapsed": true
   },
   "outputs": [],
   "source": [
    "y_pred = clf3.predict(X_test)\n",
    "y_pred_prob = clf3.predict_proba(X_test)"
   ]
  },
  {
   "cell_type": "code",
   "execution_count": 95,
   "metadata": {
    "collapsed": false
   },
   "outputs": [
    {
     "data": {
      "text/plain": [
       "Larceny                       11503\n",
       "Burglary                       3209\n",
       "Aggravated Assault              283\n",
       "Non-Negligent Manslaughter       27\n",
       "dtype: int64"
      ]
     },
     "execution_count": 95,
     "metadata": {},
     "output_type": "execute_result"
    }
   ],
   "source": [
    "pd.Series(y_pred).value_counts()"
   ]
  },
  {
   "cell_type": "code",
   "execution_count": 96,
   "metadata": {
    "collapsed": false
   },
   "outputs": [
    {
     "data": {
      "text/plain": [
       "0.54393556117694053"
      ]
     },
     "execution_count": 96,
     "metadata": {},
     "output_type": "execute_result"
    }
   ],
   "source": [
    "accuracy_score(y_test, y_pred)"
   ]
  },
  {
   "cell_type": "code",
   "execution_count": 34,
   "metadata": {
    "collapsed": true
   },
   "outputs": [],
   "source": [
    "#pipeline for nearest neighbors\n",
    "pipeline4 = make_pipeline(preprocessing.StandardScaler(), \n",
    "                         KNeighborsClassifier())"
   ]
  },
  {
   "cell_type": "code",
   "execution_count": 35,
   "metadata": {
    "collapsed": true
   },
   "outputs": [],
   "source": [
    "hyperparameters4 = {  'kneighborsclassifier__n_neighbors' : [4,5,6,7],\n",
    "                  'kneighborsclassifier__weights': ['distance'],\n",
    "                   'kneighborsclassifier__algorithm': ['auto']}\n"
   ]
  },
  {
   "cell_type": "code",
   "execution_count": 36,
   "metadata": {
    "collapsed": false
   },
   "outputs": [],
   "source": [
    "clf4 = gridSearch(pipeline4,hyperparameters4)"
   ]
  },
  {
   "cell_type": "code",
   "execution_count": 37,
   "metadata": {
    "collapsed": false
   },
   "outputs": [
    {
     "name": "stdout",
     "output_type": "stream",
     "text": [
      "{'kneighborsclassifier__n_neighbors': 7, 'kneighborsclassifier__weights': 'distance', 'kneighborsclassifier__algorithm': 'auto'}\n",
      "True\n"
     ]
    }
   ],
   "source": [
    "print(clf4.best_params_)\n",
    "print(clf4.refit)"
   ]
  },
  {
   "cell_type": "code",
   "execution_count": 206,
   "metadata": {
    "collapsed": true
   },
   "outputs": [],
   "source": [
    "y_pred = clf4.predict(X_test)\n",
    "y_pred_prob = clf4.predict_proba(X_test)"
   ]
  },
  {
   "cell_type": "code",
   "execution_count": 207,
   "metadata": {
    "collapsed": false
   },
   "outputs": [
    {
     "data": {
      "text/plain": [
       "Larceny                       6908\n",
       "Burglary                      4236\n",
       "Aggravated Assault            1589\n",
       "Robbery                       1237\n",
       "Motor Vehicle Theft           1002\n",
       "Murder                          47\n",
       "Non-Negligent Manslaughter       3\n",
       "dtype: int64"
      ]
     },
     "execution_count": 207,
     "metadata": {},
     "output_type": "execute_result"
    }
   ],
   "source": [
    "pd.Series(y_pred).value_counts()"
   ]
  },
  {
   "cell_type": "code",
   "execution_count": 85,
   "metadata": {
    "collapsed": false
   },
   "outputs": [
    {
     "data": {
      "text/plain": [
       "0.86672879776328049"
      ]
     },
     "execution_count": 85,
     "metadata": {},
     "output_type": "execute_result"
    }
   ],
   "source": [
    "accuracy_score(y_test, y_pred)"
   ]
  },
  {
   "cell_type": "code",
   "execution_count": 86,
   "metadata": {
    "collapsed": false
   },
   "outputs": [
    {
     "data": {
      "text/plain": [
       "['trained_model/knn_classifier.pkl']"
      ]
     },
     "execution_count": 86,
     "metadata": {},
     "output_type": "execute_result"
    }
   ],
   "source": [
    "#saving the model\n",
    "joblib.dump(clf4, 'trained_model/knn_classifier.pkl')"
   ]
  },
  {
   "cell_type": "code",
   "execution_count": 87,
   "metadata": {
    "collapsed": false
   },
   "outputs": [
    {
     "data": {
      "text/plain": [
       "0.86672879776328049"
      ]
     },
     "execution_count": 87,
     "metadata": {},
     "output_type": "execute_result"
    }
   ],
   "source": [
    "#reloading and test\n",
    "clf5 = joblib.load('trained_model/knn_classifier.pkl')\n",
    "y_pred = clf5.predict(X_test)\n",
    "y_pred_prob = clf5.predict_proba(X_test)\n",
    "accuracy_score(y_test, y_pred)"
   ]
  },
  {
   "cell_type": "code",
   "execution_count": 211,
   "metadata": {
    "collapsed": false
   },
   "outputs": [
    {
     "data": {
      "text/plain": [
       "'14623'"
      ]
     },
     "execution_count": 211,
     "metadata": {},
     "output_type": "execute_result"
    }
   ],
   "source": [
    "import geocoder\n",
    "g = geocoder.google('94, E Squire Dr, Rochester, NY , 14623')\n",
    "g.latlng"
   ]
  },
  {
   "cell_type": "code",
   "execution_count": 81,
   "metadata": {
    "collapsed": false
   },
   "outputs": [],
   "source": [
    "def get_data():\n",
    "    input_add = input(\"Enter address, comma separated\")\n",
    "    lat_long = geocoder.google(input_add).latlng\n",
    "    print(lat_long)\n",
    "    X = float(lat_long[1])\n",
    "    Y = float(lat_long[0])\n",
    "    month = int(input(\"Enter Month of Year : 1-12\"))\n",
    "    time_24hr = int(input(\"Enter time : 24hr clock\"))\n",
    "    \n",
    "    input_data = {'X' : X, 'Y' : Y, 'OccurredFrom_Date_Month' : month, 'OccurredFrom_Time' : time_24hr}\n",
    "    l = clf4.predict_proba(pd.DataFrame([input_data]))[0].tolist()\n",
    "    z = zip(clf4.classes_.tolist(),l)\n",
    "    for i in z:\n",
    "        print(i)\n",
    "    return z\n",
    "\n",
    "    "
   ]
  },
  {
   "cell_type": "code",
   "execution_count": 59,
   "metadata": {
    "collapsed": false
   },
   "outputs": [
    {
     "data": {
      "text/plain": [
       "array(['Aggravated Assault', 'Burglary', 'Larceny', 'Motor Vehicle Theft',\n",
       "       'Murder', 'Non-Negligent Manslaughter', 'Robbery'], dtype=object)"
      ]
     },
     "execution_count": 59,
     "metadata": {},
     "output_type": "execute_result"
    }
   ],
   "source": [
    "clf4.classes_"
   ]
  },
  {
   "cell_type": "code",
   "execution_count": 83,
   "metadata": {
    "collapsed": false
   },
   "outputs": [
    {
     "name": "stdout",
     "output_type": "stream",
     "text": [
      "Enter address, comma separated100,clinton ave south, rochester, 14604\n",
      "[43.1545777, -77.6046532]\n",
      "Enter Month of Year : 1-126\n",
      "Enter time : 24hr clock1400\n",
      "('Aggravated Assault', 0.0)\n",
      "('Burglary', 0.4285715962105395)\n",
      "('Larceny', 0.4285712650657843)\n",
      "('Motor Vehicle Theft', 0.1428571387236762)\n",
      "('Murder', 0.0)\n",
      "('Non-Negligent Manslaughter', 0.0)\n",
      "('Robbery', 0.0)\n"
     ]
    }
   ],
   "source": [
    "output_data = get_data()"
   ]
  },
  {
   "cell_type": "code",
   "execution_count": 200,
   "metadata": {
    "collapsed": true
   },
   "outputs": [],
   "source": [
    "#defining function to work with tableau, it gets input from tableau\n",
    "def crimeKnnClassifier(address,month,time_24hr):\n",
    "    clf = joblib.load('/Users/ajaykliyara/Documents/cs63/final_project/trained_model/knn_classifier.pkl')\n",
    "    lat_long = geocoder.google(address).latlng\n",
    "    #print(clf)\n",
    "    #print(lat_long)\n",
    "    X = float(lat_long[1])\n",
    "    Y = float(lat_long[0])\n",
    "    input_data = {'X' : X, 'Y' : Y, 'OccurredFrom_Date_Month' : month, 'OccurredFrom_Time' : time_24hr}\n",
    "    input_data = pd.DataFrame([input_data])\n",
    "    input_data = input_data.loc[:,['X','Y','OccurredFrom_Date_Month','OccurredFrom_Time']]\n",
    "    l = clf.predict_proba(input_data)[0].tolist()\n",
    "    z = zip(clf.classes_.tolist(),l)\n",
    "    #print(z)\n",
    "    lst=[]\n",
    "    for i in z:\n",
    "        lst.append(i[1])\n",
    "        \n",
    "    return lst"
   ]
  },
  {
   "cell_type": "code",
   "execution_count": 201,
   "metadata": {
    "collapsed": false
   },
   "outputs": [
    {
     "data": {
      "text/plain": [
       "[0.0,\n",
       " 0.17648563270829834,\n",
       " 0.5757851755129982,\n",
       " 0.0,\n",
       " 0.0,\n",
       " 0.0,\n",
       " 0.24772919177870334]"
      ]
     },
     "execution_count": 201,
     "metadata": {},
     "output_type": "execute_result"
    }
   ],
   "source": [
    "result = crimeKnnClassifier('100,Clinton Ave S,Rochester, 14604',6,1400)\n",
    "result"
   ]
  },
  {
   "cell_type": "code",
   "execution_count": 202,
   "metadata": {
    "collapsed": false
   },
   "outputs": [
    {
     "data": {
      "text/plain": [
       "[0.0,\n",
       " 0.8166390472161272,\n",
       " 0.0,\n",
       " 0.10465289415123745,\n",
       " 0.0,\n",
       " 0.0,\n",
       " 0.07870805863263539]"
      ]
     },
     "execution_count": 202,
     "metadata": {},
     "output_type": "execute_result"
    }
   ],
   "source": [
    "result = crimeKnnClassifier('798,Jay St,Rochester,NY, 14611',2,1815)\n",
    "result"
   ]
  },
  {
   "cell_type": "code",
   "execution_count": 97,
   "metadata": {
    "collapsed": true
   },
   "outputs": [],
   "source": [
    "#reference : https://github.com/tableau/TabPy/blob/master/client.md\n",
    "client = tabpy_client.Client('http://localhost:9004/')"
   ]
  },
  {
   "cell_type": "code",
   "execution_count": 203,
   "metadata": {
    "collapsed": false
   },
   "outputs": [],
   "source": [
    "from tabpy_client.schema import generate_schema\n",
    "\n",
    "schema = generate_schema(\n",
    "  input={'address': '100,Clinton Ave S, Rochester, NY, 14604',\n",
    "         'month': 6,\n",
    "         'time_24hr' : 1400},\n",
    "  output=[0.0,0.2,0.4,0.2,0.2],\n",
    "  input_description={'address': 'address separated by comma',\n",
    "                     'month': 'month of the year',\n",
    "                     'time_24hr' : 'time of the day'},\n",
    "  output_description='probability of a crime type at the given location, month and time')"
   ]
  },
  {
   "cell_type": "code",
   "execution_count": 204,
   "metadata": {
    "collapsed": true
   },
   "outputs": [],
   "source": [
    "client.deploy('crimeKnnClassifier', crimeKnnClassifier, \n",
    "              'Returns probabilites of Crime time for given address, month and time of day', schema = schema, override=True)"
   ]
  },
  {
   "cell_type": "code",
   "execution_count": 205,
   "metadata": {
    "collapsed": false
   },
   "outputs": [
    {
     "data": {
      "text/plain": [
       "{'model': 'crimeKnnClassifier',\n",
       " 'response': [0.0,\n",
       "  0.17648563270829834,\n",
       "  0.5757851755129982,\n",
       "  0.0,\n",
       "  0.0,\n",
       "  0.0,\n",
       "  0.24772919177870334],\n",
       " 'uuid': '527b36b3-ed8a-441d-89f7-80183d27a2b8',\n",
       " 'version': 15}"
      ]
     },
     "execution_count": 205,
     "metadata": {},
     "output_type": "execute_result"
    }
   ],
   "source": [
    "client.query('crimeKnnClassifier','100,Clinton Ave S, Rochester, NY, 14604', 6, 1400)"
   ]
  },
  {
   "cell_type": "code",
   "execution_count": 123,
   "metadata": {
    "collapsed": true
   },
   "outputs": [],
   "source": [
    "def add(x,y):\n",
    "    import numpy as np\n",
    "    return np.add(x, y).tolist()\n",
    "\n",
    "client.deploy('add', add, 'Adds two numbers x and y')"
   ]
  },
  {
   "cell_type": "code",
   "execution_count": 126,
   "metadata": {
    "collapsed": false
   },
   "outputs": [],
   "source": [
    "from tabpy_client.schema import generate_schema\n",
    "\n",
    "schema = generate_schema(\n",
    "  input={'x': 3, 'y': 2},\n",
    "  output=5,\n",
    "  input_description={'x': 'first value',\n",
    "                     'y': 'second value'},\n",
    "  output_description='the sum of x and y')\n",
    "\n",
    "client.deploy('add', add, 'Adds two numbers x and y', schema=schema, override = True)"
   ]
  },
  {
   "cell_type": "code",
   "execution_count": 127,
   "metadata": {
    "collapsed": false
   },
   "outputs": [
    {
     "data": {
      "text/plain": [
       "{'model': 'add',\n",
       " 'response': 30,\n",
       " 'uuid': 'd2b8fd14-4bc3-4f41-828f-c12588396131',\n",
       " 'version': 2}"
      ]
     },
     "execution_count": 127,
     "metadata": {},
     "output_type": "execute_result"
    }
   ],
   "source": [
    "client.query('add',10,20)"
   ]
  }
 ],
 "metadata": {
  "kernelspec": {
   "display_name": "Python [Root]",
   "language": "python",
   "name": "Python [Root]"
  },
  "language_info": {
   "codemirror_mode": {
    "name": "ipython",
    "version": 3
   },
   "file_extension": ".py",
   "mimetype": "text/x-python",
   "name": "python",
   "nbconvert_exporter": "python",
   "pygments_lexer": "ipython3",
   "version": "3.5.2"
  }
 },
 "nbformat": 4,
 "nbformat_minor": 2
}
