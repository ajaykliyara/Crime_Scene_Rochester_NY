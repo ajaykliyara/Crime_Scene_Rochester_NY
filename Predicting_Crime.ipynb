{
 "cells": [
  {
   "cell_type": "code",
   "execution_count": 22,
   "metadata": {
    "collapsed": true
   },
   "outputs": [],
   "source": [
    "#importing required packages\n",
    "import pandas as pd\n",
    "import numpy as np\n",
    "\n",
    "\n",
    "from sklearn.model_selection import train_test_split\n",
    "from sklearn import preprocessing\n",
    "from sklearn.tree import DecisionTreeClassifier\n",
    "\n",
    "from sklearn.pipeline import make_pipeline\n",
    "from sklearn.model_selection import GridSearchCV\n",
    "\n",
    "\n",
    "from sklearn.metrics import accuracy_score"
   ]
  },
  {
   "cell_type": "code",
   "execution_count": 3,
   "metadata": {
    "collapsed": false
   },
   "outputs": [
    {
     "data": {
      "text/plain": [
       "(76228, 40)"
      ]
     },
     "execution_count": 3,
     "metadata": {},
     "output_type": "execute_result"
    }
   ],
   "source": [
    "#reading data from csv\n",
    "crime_raw_data = pd.read_csv('data/rpd_crime_2011_to_present.csv')\n",
    "crime_raw_data.shape"
   ]
  },
  {
   "cell_type": "code",
   "execution_count": 5,
   "metadata": {
    "collapsed": true
   },
   "outputs": [],
   "source": [
    "#converting city names to upper\n",
    "crime_raw_data.loc[:,['Address_City']] = crime_raw_data.Address_City.apply(str.upper)"
   ]
  },
  {
   "cell_type": "code",
   "execution_count": 76,
   "metadata": {
    "collapsed": false
   },
   "outputs": [
    {
     "data": {
      "text/plain": [
       "(31094, 40)"
      ]
     },
     "execution_count": 76,
     "metadata": {},
     "output_type": "execute_result"
    }
   ],
   "source": [
    "#only getting rochester data\n",
    "roc_crime_data = crime_raw_data.loc[crime_raw_data.Address_City=='ROCHESTER',:]\n",
    "roc_crime_data = crime_raw_data.loc[crime_raw_data.Statute_Text!='Larceny',:]\n",
    "roc_crime_data.shape"
   ]
  },
  {
   "cell_type": "code",
   "execution_count": 77,
   "metadata": {
    "collapsed": false
   },
   "outputs": [],
   "source": [
    "roc_crime_data = roc_crime_data.dropna()"
   ]
  },
  {
   "cell_type": "code",
   "execution_count": 78,
   "metadata": {
    "collapsed": false
   },
   "outputs": [
    {
     "data": {
      "text/plain": [
       "56"
      ]
     },
     "execution_count": 78,
     "metadata": {},
     "output_type": "execute_result"
    }
   ],
   "source": [
    "len(roc_crime_data.Location_Type.unique())"
   ]
  },
  {
   "cell_type": "code",
   "execution_count": 79,
   "metadata": {
    "collapsed": false
   },
   "outputs": [
    {
     "data": {
      "text/plain": [
       "Index(['X', 'Y', 'OBJECTID', 'Geocode_Address', 'Geocode_Street',\n",
       "       'Case_Number', 'OccurredFrom_Date_Year', 'OccurredFrom_Date_Month',\n",
       "       'OccurredFrom_Time', 'OccurredFrom_Timestamp',\n",
       "       'OccurredThrough_Date_Year', 'OccurredThrough_Date_Month',\n",
       "       'OccurredThrough_Time', 'OccurredThrough_Timestamp',\n",
       "       'Reported_Date_Year', 'Reported_Date_Month', 'Reported_Time',\n",
       "       'Reported_Timestamp', 'Address_StreetFull', 'Address_City',\n",
       "       'Address_State', 'Patrol_Beat', 'Patrol_Section', 'Case_Status',\n",
       "       'Statute_Title', 'Statute_Section', 'Statute_Subsection',\n",
       "       'Statute_Degree', 'Statute_Class', 'Statute_Category', 'Statute_Text',\n",
       "       'Statute_Description', 'Statute_CrimeCategory', 'Statute_Attempted',\n",
       "       'Weapon_Description', 'Larceny_Type', 'Location_Type', 'Geo_Beat',\n",
       "       'Geo_Section', 'Geo_Section_Num'],\n",
       "      dtype='object')"
      ]
     },
     "execution_count": 79,
     "metadata": {},
     "output_type": "execute_result"
    }
   ],
   "source": [
    "roc_crime_data.columns"
   ]
  },
  {
   "cell_type": "code",
   "execution_count": 80,
   "metadata": {
    "collapsed": true
   },
   "outputs": [],
   "source": [
    "roc_crime_data_features = roc_crime_data.loc[:,['X','Y','OccurredFrom_Date_Month','OccurredFrom_Time']]\n",
    "label = roc_crime_data.loc[:,['Statute_Text']]"
   ]
  },
  {
   "cell_type": "code",
   "execution_count": 81,
   "metadata": {
    "collapsed": false
   },
   "outputs": [],
   "source": [
    "#train test split\n",
    "X_train, X_test, y_train, y_test = train_test_split(roc_crime_data_features, label, \n",
    "                                                    test_size=0.2, \n",
    "                                                    random_state=123, \n",
    "                                                    stratify=label)"
   ]
  },
  {
   "cell_type": "code",
   "execution_count": 82,
   "metadata": {
    "collapsed": false
   },
   "outputs": [
    {
     "data": {
      "text/plain": [
       "(24693, 4)"
      ]
     },
     "execution_count": 82,
     "metadata": {},
     "output_type": "execute_result"
    }
   ],
   "source": [
    "X_train.shape"
   ]
  },
  {
   "cell_type": "code",
   "execution_count": 83,
   "metadata": {
    "collapsed": false
   },
   "outputs": [
    {
     "data": {
      "text/plain": [
       "(6174, 4)"
      ]
     },
     "execution_count": 83,
     "metadata": {},
     "output_type": "execute_result"
    }
   ],
   "source": [
    "X_test.shape"
   ]
  },
  {
   "cell_type": "code",
   "execution_count": 84,
   "metadata": {
    "collapsed": false
   },
   "outputs": [],
   "source": [
    "#creating pipeline\n",
    "pipeline = make_pipeline(preprocessing.StandardScaler(), \n",
    "                         DecisionTreeClassifier(random_state=0))"
   ]
  },
  {
   "cell_type": "code",
   "execution_count": 85,
   "metadata": {
    "collapsed": true
   },
   "outputs": [],
   "source": [
    "#need to add more\n",
    "hyperparameters = { 'decisiontreeclassifier__criterion' : ['gini', 'entropy'],\n",
    "                  'decisiontreeclassifier__max_depth': [None, 100, 50, 10],\n",
    "                  'decisiontreeclassifier__splitter': ['best','random']}\n",
    "\n"
   ]
  },
  {
   "cell_type": "code",
   "execution_count": 86,
   "metadata": {
    "collapsed": false
   },
   "outputs": [
    {
     "data": {
      "text/plain": [
       "GridSearchCV(cv=10, error_score='raise',\n",
       "       estimator=Pipeline(steps=[('standardscaler', StandardScaler(copy=True, with_mean=True, with_std=True)), ('decisiontreeclassifier', DecisionTreeClassifier(class_weight=None, criterion='gini', max_depth=None,\n",
       "            max_features=None, max_leaf_nodes=None,\n",
       "            min_impurity_split=1e-07, min_samples_leaf=1,\n",
       "            min_samples_split=2, min_weight_fraction_leaf=0.0,\n",
       "            presort=False, random_state=0, splitter='best'))]),\n",
       "       fit_params={}, iid=True, n_jobs=1,\n",
       "       param_grid={'decisiontreeclassifier__max_depth': [None, 100, 50, 10], 'decisiontreeclassifier__criterion': ['gini', 'entropy'], 'decisiontreeclassifier__splitter': ['best', 'random']},\n",
       "       pre_dispatch='2*n_jobs', refit=True, return_train_score=True,\n",
       "       scoring=None, verbose=0)"
      ]
     },
     "execution_count": 86,
     "metadata": {},
     "output_type": "execute_result"
    }
   ],
   "source": [
    "#add time\n",
    "clf = GridSearchCV(pipeline, hyperparameters, cv=10)\n",
    " \n",
    "# Fit and tune model\n",
    "clf.fit(X_train, y_train.Statute_Text.values)"
   ]
  },
  {
   "cell_type": "code",
   "execution_count": 88,
   "metadata": {
    "collapsed": false
   },
   "outputs": [
    {
     "name": "stdout",
     "output_type": "stream",
     "text": [
      "{'decisiontreeclassifier__max_depth': 10, 'decisiontreeclassifier__criterion': 'gini', 'decisiontreeclassifier__splitter': 'best'}\n"
     ]
    }
   ],
   "source": [
    "print(clf.best_params_)"
   ]
  },
  {
   "cell_type": "code",
   "execution_count": 89,
   "metadata": {
    "collapsed": false
   },
   "outputs": [
    {
     "name": "stdout",
     "output_type": "stream",
     "text": [
      "True\n"
     ]
    }
   ],
   "source": [
    "print(clf.refit)"
   ]
  },
  {
   "cell_type": "code",
   "execution_count": 90,
   "metadata": {
    "collapsed": false
   },
   "outputs": [],
   "source": [
    "y_pred = clf.predict(X_test)\n",
    "y_pred_prob = clf.predict_proba(X_test)"
   ]
  },
  {
   "cell_type": "code",
   "execution_count": 91,
   "metadata": {
    "collapsed": false
   },
   "outputs": [
    {
     "data": {
      "text/plain": [
       "array(['Aggravated Assault', 'Burglary', 'Motor Vehicle Theft', 'Murder',\n",
       "       'Robbery'], dtype=object)"
      ]
     },
     "execution_count": 91,
     "metadata": {},
     "output_type": "execute_result"
    }
   ],
   "source": [
    "\n",
    "np.unique(y_pred)\n"
   ]
  },
  {
   "cell_type": "code",
   "execution_count": 92,
   "metadata": {
    "collapsed": false
   },
   "outputs": [
    {
     "data": {
      "text/plain": [
       "Burglary               4751\n",
       "Aggravated Assault      997\n",
       "Robbery                 280\n",
       "Motor Vehicle Theft     142\n",
       "Murder                    4\n",
       "dtype: int64"
      ]
     },
     "execution_count": 92,
     "metadata": {},
     "output_type": "execute_result"
    }
   ],
   "source": [
    "pd.Series(y_pred).value_counts()"
   ]
  },
  {
   "cell_type": "code",
   "execution_count": 93,
   "metadata": {
    "collapsed": false
   },
   "outputs": [
    {
     "data": {
      "text/plain": [
       "0.50194363459669578"
      ]
     },
     "execution_count": 93,
     "metadata": {},
     "output_type": "execute_result"
    }
   ],
   "source": [
    "accuracy_score(y_test, y_pred)"
   ]
  },
  {
   "cell_type": "code",
   "execution_count": 94,
   "metadata": {
    "collapsed": false
   },
   "outputs": [
    {
     "data": {
      "text/html": [
       "<div>\n",
       "<table border=\"1\" class=\"dataframe\">\n",
       "  <thead>\n",
       "    <tr style=\"text-align: right;\">\n",
       "      <th></th>\n",
       "      <th>0</th>\n",
       "      <th>1</th>\n",
       "      <th>2</th>\n",
       "      <th>3</th>\n",
       "      <th>4</th>\n",
       "      <th>5</th>\n",
       "    </tr>\n",
       "  </thead>\n",
       "  <tbody>\n",
       "    <tr>\n",
       "      <th>0</th>\n",
       "      <td>0.233486</td>\n",
       "      <td>0.473059</td>\n",
       "      <td>0.109893</td>\n",
       "      <td>0.008219</td>\n",
       "      <td>0.000304</td>\n",
       "      <td>0.175038</td>\n",
       "    </tr>\n",
       "    <tr>\n",
       "      <th>1</th>\n",
       "      <td>0.233486</td>\n",
       "      <td>0.473059</td>\n",
       "      <td>0.109893</td>\n",
       "      <td>0.008219</td>\n",
       "      <td>0.000304</td>\n",
       "      <td>0.175038</td>\n",
       "    </tr>\n",
       "    <tr>\n",
       "      <th>2</th>\n",
       "      <td>0.233486</td>\n",
       "      <td>0.473059</td>\n",
       "      <td>0.109893</td>\n",
       "      <td>0.008219</td>\n",
       "      <td>0.000304</td>\n",
       "      <td>0.175038</td>\n",
       "    </tr>\n",
       "    <tr>\n",
       "      <th>3</th>\n",
       "      <td>0.255223</td>\n",
       "      <td>0.363162</td>\n",
       "      <td>0.161908</td>\n",
       "      <td>0.009749</td>\n",
       "      <td>0.000000</td>\n",
       "      <td>0.209958</td>\n",
       "    </tr>\n",
       "    <tr>\n",
       "      <th>4</th>\n",
       "      <td>0.233486</td>\n",
       "      <td>0.473059</td>\n",
       "      <td>0.109893</td>\n",
       "      <td>0.008219</td>\n",
       "      <td>0.000304</td>\n",
       "      <td>0.175038</td>\n",
       "    </tr>\n",
       "    <tr>\n",
       "      <th>5</th>\n",
       "      <td>0.361722</td>\n",
       "      <td>0.235407</td>\n",
       "      <td>0.111005</td>\n",
       "      <td>0.006699</td>\n",
       "      <td>0.003828</td>\n",
       "      <td>0.281340</td>\n",
       "    </tr>\n",
       "    <tr>\n",
       "      <th>6</th>\n",
       "      <td>0.121429</td>\n",
       "      <td>0.728571</td>\n",
       "      <td>0.082143</td>\n",
       "      <td>0.003571</td>\n",
       "      <td>0.000000</td>\n",
       "      <td>0.064286</td>\n",
       "    </tr>\n",
       "    <tr>\n",
       "      <th>7</th>\n",
       "      <td>0.156682</td>\n",
       "      <td>0.364055</td>\n",
       "      <td>0.313364</td>\n",
       "      <td>0.000000</td>\n",
       "      <td>0.004608</td>\n",
       "      <td>0.161290</td>\n",
       "    </tr>\n",
       "    <tr>\n",
       "      <th>8</th>\n",
       "      <td>0.179211</td>\n",
       "      <td>0.612903</td>\n",
       "      <td>0.094982</td>\n",
       "      <td>0.007168</td>\n",
       "      <td>0.000000</td>\n",
       "      <td>0.105735</td>\n",
       "    </tr>\n",
       "    <tr>\n",
       "      <th>9</th>\n",
       "      <td>0.454545</td>\n",
       "      <td>0.136364</td>\n",
       "      <td>0.045455</td>\n",
       "      <td>0.000000</td>\n",
       "      <td>0.000000</td>\n",
       "      <td>0.363636</td>\n",
       "    </tr>\n",
       "    <tr>\n",
       "      <th>10</th>\n",
       "      <td>0.281139</td>\n",
       "      <td>0.377224</td>\n",
       "      <td>0.096085</td>\n",
       "      <td>0.014235</td>\n",
       "      <td>0.000000</td>\n",
       "      <td>0.231317</td>\n",
       "    </tr>\n",
       "    <tr>\n",
       "      <th>11</th>\n",
       "      <td>0.400000</td>\n",
       "      <td>0.300000</td>\n",
       "      <td>0.100000</td>\n",
       "      <td>0.000000</td>\n",
       "      <td>0.000000</td>\n",
       "      <td>0.200000</td>\n",
       "    </tr>\n",
       "    <tr>\n",
       "      <th>12</th>\n",
       "      <td>0.066667</td>\n",
       "      <td>0.900000</td>\n",
       "      <td>0.000000</td>\n",
       "      <td>0.000000</td>\n",
       "      <td>0.000000</td>\n",
       "      <td>0.033333</td>\n",
       "    </tr>\n",
       "    <tr>\n",
       "      <th>13</th>\n",
       "      <td>0.233486</td>\n",
       "      <td>0.473059</td>\n",
       "      <td>0.109893</td>\n",
       "      <td>0.008219</td>\n",
       "      <td>0.000304</td>\n",
       "      <td>0.175038</td>\n",
       "    </tr>\n",
       "    <tr>\n",
       "      <th>14</th>\n",
       "      <td>0.255223</td>\n",
       "      <td>0.363162</td>\n",
       "      <td>0.161908</td>\n",
       "      <td>0.009749</td>\n",
       "      <td>0.000000</td>\n",
       "      <td>0.209958</td>\n",
       "    </tr>\n",
       "    <tr>\n",
       "      <th>15</th>\n",
       "      <td>0.233486</td>\n",
       "      <td>0.473059</td>\n",
       "      <td>0.109893</td>\n",
       "      <td>0.008219</td>\n",
       "      <td>0.000304</td>\n",
       "      <td>0.175038</td>\n",
       "    </tr>\n",
       "    <tr>\n",
       "      <th>16</th>\n",
       "      <td>0.093936</td>\n",
       "      <td>0.697979</td>\n",
       "      <td>0.118906</td>\n",
       "      <td>0.004162</td>\n",
       "      <td>0.000000</td>\n",
       "      <td>0.085018</td>\n",
       "    </tr>\n",
       "    <tr>\n",
       "      <th>17</th>\n",
       "      <td>0.478992</td>\n",
       "      <td>0.151261</td>\n",
       "      <td>0.075630</td>\n",
       "      <td>0.016807</td>\n",
       "      <td>0.000000</td>\n",
       "      <td>0.277311</td>\n",
       "    </tr>\n",
       "    <tr>\n",
       "      <th>18</th>\n",
       "      <td>0.233486</td>\n",
       "      <td>0.473059</td>\n",
       "      <td>0.109893</td>\n",
       "      <td>0.008219</td>\n",
       "      <td>0.000304</td>\n",
       "      <td>0.175038</td>\n",
       "    </tr>\n",
       "    <tr>\n",
       "      <th>19</th>\n",
       "      <td>0.156682</td>\n",
       "      <td>0.364055</td>\n",
       "      <td>0.313364</td>\n",
       "      <td>0.000000</td>\n",
       "      <td>0.004608</td>\n",
       "      <td>0.161290</td>\n",
       "    </tr>\n",
       "    <tr>\n",
       "      <th>20</th>\n",
       "      <td>0.153846</td>\n",
       "      <td>0.538462</td>\n",
       "      <td>0.076923</td>\n",
       "      <td>0.076923</td>\n",
       "      <td>0.000000</td>\n",
       "      <td>0.153846</td>\n",
       "    </tr>\n",
       "    <tr>\n",
       "      <th>21</th>\n",
       "      <td>0.126761</td>\n",
       "      <td>0.507042</td>\n",
       "      <td>0.281690</td>\n",
       "      <td>0.000000</td>\n",
       "      <td>0.000000</td>\n",
       "      <td>0.084507</td>\n",
       "    </tr>\n",
       "    <tr>\n",
       "      <th>22</th>\n",
       "      <td>0.361722</td>\n",
       "      <td>0.235407</td>\n",
       "      <td>0.111005</td>\n",
       "      <td>0.006699</td>\n",
       "      <td>0.003828</td>\n",
       "      <td>0.281340</td>\n",
       "    </tr>\n",
       "    <tr>\n",
       "      <th>23</th>\n",
       "      <td>0.255223</td>\n",
       "      <td>0.363162</td>\n",
       "      <td>0.161908</td>\n",
       "      <td>0.009749</td>\n",
       "      <td>0.000000</td>\n",
       "      <td>0.209958</td>\n",
       "    </tr>\n",
       "    <tr>\n",
       "      <th>24</th>\n",
       "      <td>0.093936</td>\n",
       "      <td>0.697979</td>\n",
       "      <td>0.118906</td>\n",
       "      <td>0.004162</td>\n",
       "      <td>0.000000</td>\n",
       "      <td>0.085018</td>\n",
       "    </tr>\n",
       "    <tr>\n",
       "      <th>25</th>\n",
       "      <td>0.179211</td>\n",
       "      <td>0.612903</td>\n",
       "      <td>0.094982</td>\n",
       "      <td>0.007168</td>\n",
       "      <td>0.000000</td>\n",
       "      <td>0.105735</td>\n",
       "    </tr>\n",
       "    <tr>\n",
       "      <th>26</th>\n",
       "      <td>0.118721</td>\n",
       "      <td>0.509132</td>\n",
       "      <td>0.289954</td>\n",
       "      <td>0.002283</td>\n",
       "      <td>0.000000</td>\n",
       "      <td>0.079909</td>\n",
       "    </tr>\n",
       "    <tr>\n",
       "      <th>27</th>\n",
       "      <td>0.093936</td>\n",
       "      <td>0.697979</td>\n",
       "      <td>0.118906</td>\n",
       "      <td>0.004162</td>\n",
       "      <td>0.000000</td>\n",
       "      <td>0.085018</td>\n",
       "    </tr>\n",
       "    <tr>\n",
       "      <th>28</th>\n",
       "      <td>0.313433</td>\n",
       "      <td>0.129353</td>\n",
       "      <td>0.099502</td>\n",
       "      <td>0.009950</td>\n",
       "      <td>0.000000</td>\n",
       "      <td>0.447761</td>\n",
       "    </tr>\n",
       "    <tr>\n",
       "      <th>29</th>\n",
       "      <td>0.609375</td>\n",
       "      <td>0.093750</td>\n",
       "      <td>0.156250</td>\n",
       "      <td>0.000000</td>\n",
       "      <td>0.000000</td>\n",
       "      <td>0.140625</td>\n",
       "    </tr>\n",
       "    <tr>\n",
       "      <th>...</th>\n",
       "      <td>...</td>\n",
       "      <td>...</td>\n",
       "      <td>...</td>\n",
       "      <td>...</td>\n",
       "      <td>...</td>\n",
       "      <td>...</td>\n",
       "    </tr>\n",
       "    <tr>\n",
       "      <th>6144</th>\n",
       "      <td>0.233486</td>\n",
       "      <td>0.473059</td>\n",
       "      <td>0.109893</td>\n",
       "      <td>0.008219</td>\n",
       "      <td>0.000304</td>\n",
       "      <td>0.175038</td>\n",
       "    </tr>\n",
       "    <tr>\n",
       "      <th>6145</th>\n",
       "      <td>0.233486</td>\n",
       "      <td>0.473059</td>\n",
       "      <td>0.109893</td>\n",
       "      <td>0.008219</td>\n",
       "      <td>0.000304</td>\n",
       "      <td>0.175038</td>\n",
       "    </tr>\n",
       "    <tr>\n",
       "      <th>6146</th>\n",
       "      <td>0.121429</td>\n",
       "      <td>0.728571</td>\n",
       "      <td>0.082143</td>\n",
       "      <td>0.003571</td>\n",
       "      <td>0.000000</td>\n",
       "      <td>0.064286</td>\n",
       "    </tr>\n",
       "    <tr>\n",
       "      <th>6147</th>\n",
       "      <td>0.255223</td>\n",
       "      <td>0.363162</td>\n",
       "      <td>0.161908</td>\n",
       "      <td>0.009749</td>\n",
       "      <td>0.000000</td>\n",
       "      <td>0.209958</td>\n",
       "    </tr>\n",
       "    <tr>\n",
       "      <th>6148</th>\n",
       "      <td>0.128342</td>\n",
       "      <td>0.385027</td>\n",
       "      <td>0.336898</td>\n",
       "      <td>0.005348</td>\n",
       "      <td>0.000000</td>\n",
       "      <td>0.144385</td>\n",
       "    </tr>\n",
       "    <tr>\n",
       "      <th>6149</th>\n",
       "      <td>0.274436</td>\n",
       "      <td>0.451128</td>\n",
       "      <td>0.112782</td>\n",
       "      <td>0.011278</td>\n",
       "      <td>0.000000</td>\n",
       "      <td>0.150376</td>\n",
       "    </tr>\n",
       "    <tr>\n",
       "      <th>6150</th>\n",
       "      <td>0.233486</td>\n",
       "      <td>0.473059</td>\n",
       "      <td>0.109893</td>\n",
       "      <td>0.008219</td>\n",
       "      <td>0.000304</td>\n",
       "      <td>0.175038</td>\n",
       "    </tr>\n",
       "    <tr>\n",
       "      <th>6151</th>\n",
       "      <td>0.046512</td>\n",
       "      <td>0.813953</td>\n",
       "      <td>0.116279</td>\n",
       "      <td>0.000000</td>\n",
       "      <td>0.000000</td>\n",
       "      <td>0.023256</td>\n",
       "    </tr>\n",
       "    <tr>\n",
       "      <th>6152</th>\n",
       "      <td>0.255223</td>\n",
       "      <td>0.363162</td>\n",
       "      <td>0.161908</td>\n",
       "      <td>0.009749</td>\n",
       "      <td>0.000000</td>\n",
       "      <td>0.209958</td>\n",
       "    </tr>\n",
       "    <tr>\n",
       "      <th>6153</th>\n",
       "      <td>0.093936</td>\n",
       "      <td>0.697979</td>\n",
       "      <td>0.118906</td>\n",
       "      <td>0.004162</td>\n",
       "      <td>0.000000</td>\n",
       "      <td>0.085018</td>\n",
       "    </tr>\n",
       "    <tr>\n",
       "      <th>6154</th>\n",
       "      <td>0.038710</td>\n",
       "      <td>0.800000</td>\n",
       "      <td>0.119355</td>\n",
       "      <td>0.000000</td>\n",
       "      <td>0.000000</td>\n",
       "      <td>0.041935</td>\n",
       "    </tr>\n",
       "    <tr>\n",
       "      <th>6155</th>\n",
       "      <td>0.052632</td>\n",
       "      <td>0.052632</td>\n",
       "      <td>0.263158</td>\n",
       "      <td>0.000000</td>\n",
       "      <td>0.000000</td>\n",
       "      <td>0.631579</td>\n",
       "    </tr>\n",
       "    <tr>\n",
       "      <th>6156</th>\n",
       "      <td>0.361722</td>\n",
       "      <td>0.235407</td>\n",
       "      <td>0.111005</td>\n",
       "      <td>0.006699</td>\n",
       "      <td>0.003828</td>\n",
       "      <td>0.281340</td>\n",
       "    </tr>\n",
       "    <tr>\n",
       "      <th>6157</th>\n",
       "      <td>0.150538</td>\n",
       "      <td>0.387097</td>\n",
       "      <td>0.322581</td>\n",
       "      <td>0.000000</td>\n",
       "      <td>0.000000</td>\n",
       "      <td>0.139785</td>\n",
       "    </tr>\n",
       "    <tr>\n",
       "      <th>6158</th>\n",
       "      <td>0.500000</td>\n",
       "      <td>0.055556</td>\n",
       "      <td>0.277778</td>\n",
       "      <td>0.055556</td>\n",
       "      <td>0.000000</td>\n",
       "      <td>0.111111</td>\n",
       "    </tr>\n",
       "    <tr>\n",
       "      <th>6159</th>\n",
       "      <td>0.000000</td>\n",
       "      <td>0.000000</td>\n",
       "      <td>0.000000</td>\n",
       "      <td>0.000000</td>\n",
       "      <td>0.000000</td>\n",
       "      <td>1.000000</td>\n",
       "    </tr>\n",
       "    <tr>\n",
       "      <th>6160</th>\n",
       "      <td>0.083333</td>\n",
       "      <td>0.416667</td>\n",
       "      <td>0.291667</td>\n",
       "      <td>0.000000</td>\n",
       "      <td>0.000000</td>\n",
       "      <td>0.208333</td>\n",
       "    </tr>\n",
       "    <tr>\n",
       "      <th>6161</th>\n",
       "      <td>0.255223</td>\n",
       "      <td>0.363162</td>\n",
       "      <td>0.161908</td>\n",
       "      <td>0.009749</td>\n",
       "      <td>0.000000</td>\n",
       "      <td>0.209958</td>\n",
       "    </tr>\n",
       "    <tr>\n",
       "      <th>6162</th>\n",
       "      <td>0.255223</td>\n",
       "      <td>0.363162</td>\n",
       "      <td>0.161908</td>\n",
       "      <td>0.009749</td>\n",
       "      <td>0.000000</td>\n",
       "      <td>0.209958</td>\n",
       "    </tr>\n",
       "    <tr>\n",
       "      <th>6163</th>\n",
       "      <td>0.039474</td>\n",
       "      <td>0.894737</td>\n",
       "      <td>0.039474</td>\n",
       "      <td>0.000000</td>\n",
       "      <td>0.000000</td>\n",
       "      <td>0.026316</td>\n",
       "    </tr>\n",
       "    <tr>\n",
       "      <th>6164</th>\n",
       "      <td>0.182456</td>\n",
       "      <td>0.571930</td>\n",
       "      <td>0.084211</td>\n",
       "      <td>0.003509</td>\n",
       "      <td>0.000000</td>\n",
       "      <td>0.157895</td>\n",
       "    </tr>\n",
       "    <tr>\n",
       "      <th>6165</th>\n",
       "      <td>0.125000</td>\n",
       "      <td>0.750000</td>\n",
       "      <td>0.000000</td>\n",
       "      <td>0.000000</td>\n",
       "      <td>0.000000</td>\n",
       "      <td>0.125000</td>\n",
       "    </tr>\n",
       "    <tr>\n",
       "      <th>6166</th>\n",
       "      <td>0.500000</td>\n",
       "      <td>0.416667</td>\n",
       "      <td>0.083333</td>\n",
       "      <td>0.000000</td>\n",
       "      <td>0.000000</td>\n",
       "      <td>0.000000</td>\n",
       "    </tr>\n",
       "    <tr>\n",
       "      <th>6167</th>\n",
       "      <td>0.148148</td>\n",
       "      <td>0.222222</td>\n",
       "      <td>0.000000</td>\n",
       "      <td>0.000000</td>\n",
       "      <td>0.000000</td>\n",
       "      <td>0.629630</td>\n",
       "    </tr>\n",
       "    <tr>\n",
       "      <th>6168</th>\n",
       "      <td>0.179211</td>\n",
       "      <td>0.612903</td>\n",
       "      <td>0.094982</td>\n",
       "      <td>0.007168</td>\n",
       "      <td>0.000000</td>\n",
       "      <td>0.105735</td>\n",
       "    </tr>\n",
       "    <tr>\n",
       "      <th>6169</th>\n",
       "      <td>0.255223</td>\n",
       "      <td>0.363162</td>\n",
       "      <td>0.161908</td>\n",
       "      <td>0.009749</td>\n",
       "      <td>0.000000</td>\n",
       "      <td>0.209958</td>\n",
       "    </tr>\n",
       "    <tr>\n",
       "      <th>6170</th>\n",
       "      <td>0.187500</td>\n",
       "      <td>0.687500</td>\n",
       "      <td>0.062500</td>\n",
       "      <td>0.000000</td>\n",
       "      <td>0.000000</td>\n",
       "      <td>0.062500</td>\n",
       "    </tr>\n",
       "    <tr>\n",
       "      <th>6171</th>\n",
       "      <td>0.274436</td>\n",
       "      <td>0.451128</td>\n",
       "      <td>0.112782</td>\n",
       "      <td>0.011278</td>\n",
       "      <td>0.000000</td>\n",
       "      <td>0.150376</td>\n",
       "    </tr>\n",
       "    <tr>\n",
       "      <th>6172</th>\n",
       "      <td>0.013889</td>\n",
       "      <td>0.875000</td>\n",
       "      <td>0.069444</td>\n",
       "      <td>0.000000</td>\n",
       "      <td>0.000000</td>\n",
       "      <td>0.041667</td>\n",
       "    </tr>\n",
       "    <tr>\n",
       "      <th>6173</th>\n",
       "      <td>0.255223</td>\n",
       "      <td>0.363162</td>\n",
       "      <td>0.161908</td>\n",
       "      <td>0.009749</td>\n",
       "      <td>0.000000</td>\n",
       "      <td>0.209958</td>\n",
       "    </tr>\n",
       "  </tbody>\n",
       "</table>\n",
       "<p>6174 rows × 6 columns</p>\n",
       "</div>"
      ],
      "text/plain": [
       "             0         1         2         3         4         5\n",
       "0     0.233486  0.473059  0.109893  0.008219  0.000304  0.175038\n",
       "1     0.233486  0.473059  0.109893  0.008219  0.000304  0.175038\n",
       "2     0.233486  0.473059  0.109893  0.008219  0.000304  0.175038\n",
       "3     0.255223  0.363162  0.161908  0.009749  0.000000  0.209958\n",
       "4     0.233486  0.473059  0.109893  0.008219  0.000304  0.175038\n",
       "5     0.361722  0.235407  0.111005  0.006699  0.003828  0.281340\n",
       "6     0.121429  0.728571  0.082143  0.003571  0.000000  0.064286\n",
       "7     0.156682  0.364055  0.313364  0.000000  0.004608  0.161290\n",
       "8     0.179211  0.612903  0.094982  0.007168  0.000000  0.105735\n",
       "9     0.454545  0.136364  0.045455  0.000000  0.000000  0.363636\n",
       "10    0.281139  0.377224  0.096085  0.014235  0.000000  0.231317\n",
       "11    0.400000  0.300000  0.100000  0.000000  0.000000  0.200000\n",
       "12    0.066667  0.900000  0.000000  0.000000  0.000000  0.033333\n",
       "13    0.233486  0.473059  0.109893  0.008219  0.000304  0.175038\n",
       "14    0.255223  0.363162  0.161908  0.009749  0.000000  0.209958\n",
       "15    0.233486  0.473059  0.109893  0.008219  0.000304  0.175038\n",
       "16    0.093936  0.697979  0.118906  0.004162  0.000000  0.085018\n",
       "17    0.478992  0.151261  0.075630  0.016807  0.000000  0.277311\n",
       "18    0.233486  0.473059  0.109893  0.008219  0.000304  0.175038\n",
       "19    0.156682  0.364055  0.313364  0.000000  0.004608  0.161290\n",
       "20    0.153846  0.538462  0.076923  0.076923  0.000000  0.153846\n",
       "21    0.126761  0.507042  0.281690  0.000000  0.000000  0.084507\n",
       "22    0.361722  0.235407  0.111005  0.006699  0.003828  0.281340\n",
       "23    0.255223  0.363162  0.161908  0.009749  0.000000  0.209958\n",
       "24    0.093936  0.697979  0.118906  0.004162  0.000000  0.085018\n",
       "25    0.179211  0.612903  0.094982  0.007168  0.000000  0.105735\n",
       "26    0.118721  0.509132  0.289954  0.002283  0.000000  0.079909\n",
       "27    0.093936  0.697979  0.118906  0.004162  0.000000  0.085018\n",
       "28    0.313433  0.129353  0.099502  0.009950  0.000000  0.447761\n",
       "29    0.609375  0.093750  0.156250  0.000000  0.000000  0.140625\n",
       "...        ...       ...       ...       ...       ...       ...\n",
       "6144  0.233486  0.473059  0.109893  0.008219  0.000304  0.175038\n",
       "6145  0.233486  0.473059  0.109893  0.008219  0.000304  0.175038\n",
       "6146  0.121429  0.728571  0.082143  0.003571  0.000000  0.064286\n",
       "6147  0.255223  0.363162  0.161908  0.009749  0.000000  0.209958\n",
       "6148  0.128342  0.385027  0.336898  0.005348  0.000000  0.144385\n",
       "6149  0.274436  0.451128  0.112782  0.011278  0.000000  0.150376\n",
       "6150  0.233486  0.473059  0.109893  0.008219  0.000304  0.175038\n",
       "6151  0.046512  0.813953  0.116279  0.000000  0.000000  0.023256\n",
       "6152  0.255223  0.363162  0.161908  0.009749  0.000000  0.209958\n",
       "6153  0.093936  0.697979  0.118906  0.004162  0.000000  0.085018\n",
       "6154  0.038710  0.800000  0.119355  0.000000  0.000000  0.041935\n",
       "6155  0.052632  0.052632  0.263158  0.000000  0.000000  0.631579\n",
       "6156  0.361722  0.235407  0.111005  0.006699  0.003828  0.281340\n",
       "6157  0.150538  0.387097  0.322581  0.000000  0.000000  0.139785\n",
       "6158  0.500000  0.055556  0.277778  0.055556  0.000000  0.111111\n",
       "6159  0.000000  0.000000  0.000000  0.000000  0.000000  1.000000\n",
       "6160  0.083333  0.416667  0.291667  0.000000  0.000000  0.208333\n",
       "6161  0.255223  0.363162  0.161908  0.009749  0.000000  0.209958\n",
       "6162  0.255223  0.363162  0.161908  0.009749  0.000000  0.209958\n",
       "6163  0.039474  0.894737  0.039474  0.000000  0.000000  0.026316\n",
       "6164  0.182456  0.571930  0.084211  0.003509  0.000000  0.157895\n",
       "6165  0.125000  0.750000  0.000000  0.000000  0.000000  0.125000\n",
       "6166  0.500000  0.416667  0.083333  0.000000  0.000000  0.000000\n",
       "6167  0.148148  0.222222  0.000000  0.000000  0.000000  0.629630\n",
       "6168  0.179211  0.612903  0.094982  0.007168  0.000000  0.105735\n",
       "6169  0.255223  0.363162  0.161908  0.009749  0.000000  0.209958\n",
       "6170  0.187500  0.687500  0.062500  0.000000  0.000000  0.062500\n",
       "6171  0.274436  0.451128  0.112782  0.011278  0.000000  0.150376\n",
       "6172  0.013889  0.875000  0.069444  0.000000  0.000000  0.041667\n",
       "6173  0.255223  0.363162  0.161908  0.009749  0.000000  0.209958\n",
       "\n",
       "[6174 rows x 6 columns]"
      ]
     },
     "execution_count": 94,
     "metadata": {},
     "output_type": "execute_result"
    }
   ],
   "source": [
    "pd.DataFrame(y_pred_prob)\n"
   ]
  },
  {
   "cell_type": "code",
   "execution_count": 95,
   "metadata": {
    "collapsed": false
   },
   "outputs": [
    {
     "data": {
      "text/plain": [
       "array(['Aggravated Assault', 'Burglary', 'Motor Vehicle Theft', 'Murder',\n",
       "       'Non-Negligent Manslaughter', 'Robbery'], dtype=object)"
      ]
     },
     "execution_count": 95,
     "metadata": {},
     "output_type": "execute_result"
    }
   ],
   "source": [
    "clf.best_estimator_.classes_"
   ]
  }
 ],
 "metadata": {
  "kernelspec": {
   "display_name": "Python [Root]",
   "language": "python",
   "name": "Python [Root]"
  },
  "language_info": {
   "codemirror_mode": {
    "name": "ipython",
    "version": 3
   },
   "file_extension": ".py",
   "mimetype": "text/x-python",
   "name": "python",
   "nbconvert_exporter": "python",
   "pygments_lexer": "ipython3",
   "version": "3.5.2"
  }
 },
 "nbformat": 4,
 "nbformat_minor": 2
}
