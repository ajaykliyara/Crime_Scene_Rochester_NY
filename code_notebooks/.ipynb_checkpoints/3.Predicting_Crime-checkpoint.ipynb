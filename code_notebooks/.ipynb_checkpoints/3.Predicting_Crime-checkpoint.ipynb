{
 "cells": [
  {
   "cell_type": "markdown",
   "metadata": {},
   "source": [
    "<H4 align='left'>12/10/2017</H4> <H4 align='right' >E-63 Big Data Analytics</H4>\n",
    "\n"
   ]
  },
  {
   "cell_type": "markdown",
   "metadata": {},
   "source": [
    "<H2 align='center'>Crime Scene Rochester NY </H2>\n",
    "<H4 align='center'>A Big Data Case Study in Social Sciences</H4>\n",
    "<H4 align='right'>By : Ajay Antony Kliyara Philip</H4>"
   ]
  },
  {
   "cell_type": "markdown",
   "metadata": {},
   "source": [
    "<H2 align='center'> Part 3 : Predicting Crime using SKLearn </H2>\n"
   ]
  },
  {
   "cell_type": "code",
   "execution_count": 1,
   "metadata": {
    "collapsed": false
   },
   "outputs": [],
   "source": [
    "#reference :  https://elitedatascience.com/python-machine-learning-tutorial-scikit-learn\n",
    "#importing required packages\n",
    "import pandas as pd\n",
    "import numpy as np\n",
    "\n",
    "#sklearn module for train-test split of data\n",
    "from sklearn.model_selection import train_test_split\n",
    "\n",
    "#sklearn module for normalizing data\n",
    "from sklearn import preprocessing\n",
    "\n",
    "#sklearn module for making ML pipeline\n",
    "from sklearn.pipeline import make_pipeline\n",
    "\n",
    "#sklearn module for hyper parameter tuning\n",
    "from sklearn.model_selection import GridSearchCV\n",
    "\n",
    "#sklearn module for determining accuracy of classifiers\n",
    "from sklearn.metrics import accuracy_score\n",
    "\n",
    "#sklearn module for balancing data\n",
    "from imblearn.under_sampling import RandomUnderSampler\n",
    "\n",
    "#sklearn module classifier algorithms\n",
    "from sklearn.ensemble import RandomForestClassifier, AdaBoostClassifier\n",
    "from sklearn.neighbors import KNeighborsClassifier\n",
    "from sklearn.tree import DecisionTreeClassifier\n",
    "\n",
    "#module to save models to be retreived later\n",
    "from sklearn.externals import joblib\n",
    "\n",
    "#importing tabpy client\n",
    "import tabpy_client"
   ]
  },
  {
   "cell_type": "code",
   "execution_count": 2,
   "metadata": {
    "collapsed": false
   },
   "outputs": [
    {
     "data": {
      "text/plain": [
       "(76228, 40)"
      ]
     },
     "execution_count": 2,
     "metadata": {},
     "output_type": "execute_result"
    }
   ],
   "source": [
    "#reading data from csv\n",
    "crime_raw_data = pd.read_csv('../data/rpd_crime_2011_to_present.csv')\n",
    "crime_raw_data.shape"
   ]
  },
  {
   "cell_type": "code",
   "execution_count": 3,
   "metadata": {
    "collapsed": true
   },
   "outputs": [],
   "source": [
    "#converting city names to upper\n",
    "crime_raw_data.loc[:,['Address_City']] = crime_raw_data.Address_City.apply(str.upper)"
   ]
  },
  {
   "cell_type": "code",
   "execution_count": 4,
   "metadata": {
    "collapsed": false
   },
   "outputs": [
    {
     "data": {
      "text/plain": [
       "(75468, 40)"
      ]
     },
     "execution_count": 4,
     "metadata": {},
     "output_type": "execute_result"
    }
   ],
   "source": [
    "#only getting rochester data\n",
    "roc_crime_data = crime_raw_data.loc[crime_raw_data.Address_City=='ROCHESTER',:]\n",
    "#roc_crime_data = crime_raw_data.loc[crime_raw_data.Statute_Text!='Larceny',:]\n",
    "roc_crime_data.shape"
   ]
  },
  {
   "cell_type": "code",
   "execution_count": 5,
   "metadata": {
    "collapsed": false
   },
   "outputs": [],
   "source": [
    "#remove any rows will null records\n",
    "roc_crime_data = roc_crime_data.dropna()"
   ]
  },
  {
   "cell_type": "code",
   "execution_count": 6,
   "metadata": {
    "collapsed": false
   },
   "outputs": [
    {
     "data": {
      "text/plain": [
       "Index(['X', 'Y', 'OBJECTID', 'Geocode_Address', 'Geocode_Street',\n",
       "       'Case_Number', 'OccurredFrom_Date_Year', 'OccurredFrom_Date_Month',\n",
       "       'OccurredFrom_Time', 'OccurredFrom_Timestamp',\n",
       "       'OccurredThrough_Date_Year', 'OccurredThrough_Date_Month',\n",
       "       'OccurredThrough_Time', 'OccurredThrough_Timestamp',\n",
       "       'Reported_Date_Year', 'Reported_Date_Month', 'Reported_Time',\n",
       "       'Reported_Timestamp', 'Address_StreetFull', 'Address_City',\n",
       "       'Address_State', 'Patrol_Beat', 'Patrol_Section', 'Case_Status',\n",
       "       'Statute_Title', 'Statute_Section', 'Statute_Subsection',\n",
       "       'Statute_Degree', 'Statute_Class', 'Statute_Category', 'Statute_Text',\n",
       "       'Statute_Description', 'Statute_CrimeCategory', 'Statute_Attempted',\n",
       "       'Weapon_Description', 'Larceny_Type', 'Location_Type', 'Geo_Beat',\n",
       "       'Geo_Section', 'Geo_Section_Num'],\n",
       "      dtype='object')"
      ]
     },
     "execution_count": 6,
     "metadata": {},
     "output_type": "execute_result"
    }
   ],
   "source": [
    "roc_crime_data.columns"
   ]
  },
  {
   "cell_type": "code",
   "execution_count": 7,
   "metadata": {
    "collapsed": false
   },
   "outputs": [],
   "source": [
    "#seprating into features and labels\n",
    "roc_crime_data_features = roc_crime_data.loc[:,['X','Y','OccurredFrom_Date_Month','OccurredFrom_Time']]\n",
    "label = roc_crime_data.loc[:,['Statute_Text']]"
   ]
  },
  {
   "cell_type": "code",
   "execution_count": 8,
   "metadata": {
    "collapsed": false
   },
   "outputs": [
    {
     "data": {
      "text/plain": [
       "Larceny                       44441\n",
       "Burglary                      14827\n",
       "Aggravated Assault             6350\n",
       "Robbery                        5106\n",
       "Motor Vehicle Theft            4149\n",
       "Murder                          222\n",
       "Non-Negligent Manslaughter       12\n",
       "Name: Statute_Text, dtype: int64"
      ]
     },
     "execution_count": 8,
     "metadata": {},
     "output_type": "execute_result"
    }
   ],
   "source": [
    "label.Statute_Text.value_counts()"
   ]
  },
  {
   "cell_type": "code",
   "execution_count": 9,
   "metadata": {
    "collapsed": false
   },
   "outputs": [],
   "source": [
    "#http://contrib.scikit-learn.org/imbalanced-learn/stable/auto_examples/under-sampling/plot_random_under_sampler.html\n",
    "\n",
    "# Apply the random under-sampling, reducing larceny to 20000\n",
    "rus = RandomUnderSampler(ratio={'Larceny' : 20000},return_indices=True)\n",
    "X_resampled, y_resampled, idx_resampled = rus.fit_sample(roc_crime_data_features, label.Statute_Text.values)"
   ]
  },
  {
   "cell_type": "code",
   "execution_count": 10,
   "metadata": {
    "collapsed": false
   },
   "outputs": [
    {
     "data": {
      "text/plain": [
       "Larceny                       20000\n",
       "Burglary                      14827\n",
       "Aggravated Assault             6350\n",
       "Robbery                        5106\n",
       "Motor Vehicle Theft            4149\n",
       "Murder                          222\n",
       "Non-Negligent Manslaughter       12\n",
       "dtype: int64"
      ]
     },
     "execution_count": 10,
     "metadata": {},
     "output_type": "execute_result"
    }
   ],
   "source": [
    "pd.Series(y_resampled).value_counts()"
   ]
  },
  {
   "cell_type": "code",
   "execution_count": 11,
   "metadata": {
    "collapsed": false
   },
   "outputs": [],
   "source": [
    "#train test split\n",
    "X_train, X_test, y_train, y_test = train_test_split(roc_crime_data_features, label, \n",
    "                                                    test_size=0.2, \n",
    "                                                    random_state=123, \n",
    "                                                    stratify=label)"
   ]
  },
  {
   "cell_type": "code",
   "execution_count": 12,
   "metadata": {
    "collapsed": false
   },
   "outputs": [
    {
     "name": "stdout",
     "output_type": "stream",
     "text": [
      "0.591732126215\n"
     ]
    },
    {
     "data": {
      "text/plain": [
       "0.3947420360794221"
      ]
     },
     "execution_count": 12,
     "metadata": {},
     "output_type": "execute_result"
    }
   ],
   "source": [
    "#Baseline model\n",
    "#Since larceny is the highest crime type, check the accuracy by predicting all events as 'Larceny'\n",
    "\n",
    "print(np.mean(y_test.Statute_Text == 'Larceny'))\n",
    "np.mean(y_resampled == 'Larceny')"
   ]
  },
  {
   "cell_type": "code",
   "execution_count": 13,
   "metadata": {
    "collapsed": false
   },
   "outputs": [
    {
     "data": {
      "text/plain": [
       "(60085, 4)"
      ]
     },
     "execution_count": 13,
     "metadata": {},
     "output_type": "execute_result"
    }
   ],
   "source": [
    "X_train.shape"
   ]
  },
  {
   "cell_type": "code",
   "execution_count": 14,
   "metadata": {
    "collapsed": false
   },
   "outputs": [
    {
     "data": {
      "text/plain": [
       "(15022, 4)"
      ]
     },
     "execution_count": 14,
     "metadata": {},
     "output_type": "execute_result"
    }
   ],
   "source": [
    "X_test.shape"
   ]
  },
  {
   "cell_type": "markdown",
   "metadata": {},
   "source": [
    "<h3>Decision Tree Classifier</h3>"
   ]
  },
  {
   "cell_type": "code",
   "execution_count": 15,
   "metadata": {
    "collapsed": false
   },
   "outputs": [],
   "source": [
    "#creating pipeline for decision tree\n",
    "pipeline = make_pipeline(preprocessing.StandardScaler(), \n",
    "                         DecisionTreeClassifier(random_state=0))"
   ]
  },
  {
   "cell_type": "code",
   "execution_count": 16,
   "metadata": {
    "collapsed": true
   },
   "outputs": [],
   "source": [
    "#need to add more\n",
    "hyperparameters = { 'decisiontreeclassifier__criterion' : ['gini', 'entropy'],\n",
    "                  'decisiontreeclassifier__max_depth': [None, 100, 50, 10],\n",
    "                  'decisiontreeclassifier__splitter': ['best','random']}\n",
    "\n"
   ]
  },
  {
   "cell_type": "code",
   "execution_count": 17,
   "metadata": {
    "collapsed": false
   },
   "outputs": [],
   "source": [
    "#method to grid search hyper parameters\n",
    "def gridSearch(pipeline,hyperparameters):\n",
    "    clft = GridSearchCV(pipeline, hyperparameters, cv=10)\n",
    "    # Fit and tune model\n",
    "    #clft.fit(X_train, y_train.Statute_Text.values)\n",
    "    clft.fit(X_resampled, y_resampled)\n",
    "    return clft"
   ]
  },
  {
   "cell_type": "code",
   "execution_count": 18,
   "metadata": {
    "collapsed": false
   },
   "outputs": [],
   "source": [
    "#grid searching through parameters \n",
    "clf = gridSearch(pipeline,hyperparameters)"
   ]
  },
  {
   "cell_type": "code",
   "execution_count": 19,
   "metadata": {
    "collapsed": false
   },
   "outputs": [
    {
     "name": "stdout",
     "output_type": "stream",
     "text": [
      "{'decisiontreeclassifier__max_depth': 10, 'decisiontreeclassifier__splitter': 'best', 'decisiontreeclassifier__criterion': 'gini'}\n"
     ]
    }
   ],
   "source": [
    "#best classifier\n",
    "print(clf.best_params_)"
   ]
  },
  {
   "cell_type": "code",
   "execution_count": 20,
   "metadata": {
    "collapsed": false
   },
   "outputs": [
    {
     "name": "stdout",
     "output_type": "stream",
     "text": [
      "True\n"
     ]
    }
   ],
   "source": [
    "#checking if data is refit on entire training set\n",
    "print(clf.refit)"
   ]
  },
  {
   "cell_type": "code",
   "execution_count": 21,
   "metadata": {
    "collapsed": false
   },
   "outputs": [],
   "source": [
    "#predicting on test set\n",
    "y_pred = clf.predict(X_test)\n",
    "y_pred_prob = clf.predict_proba(X_test)"
   ]
  },
  {
   "cell_type": "code",
   "execution_count": 22,
   "metadata": {
    "collapsed": false
   },
   "outputs": [
    {
     "data": {
      "text/plain": [
       "array(['Aggravated Assault', 'Burglary', 'Larceny', 'Motor Vehicle Theft',\n",
       "       'Robbery'], dtype=object)"
      ]
     },
     "execution_count": 22,
     "metadata": {},
     "output_type": "execute_result"
    }
   ],
   "source": [
    "np.unique(y_pred)"
   ]
  },
  {
   "cell_type": "code",
   "execution_count": 23,
   "metadata": {
    "collapsed": false
   },
   "outputs": [
    {
     "data": {
      "text/plain": [
       "Larceny                8143\n",
       "Burglary               5256\n",
       "Aggravated Assault     1352\n",
       "Robbery                 175\n",
       "Motor Vehicle Theft      96\n",
       "dtype: int64"
      ]
     },
     "execution_count": 23,
     "metadata": {},
     "output_type": "execute_result"
    }
   ],
   "source": [
    "#distribution in test set\n",
    "pd.Series(y_pred).value_counts()"
   ]
  },
  {
   "cell_type": "code",
   "execution_count": 24,
   "metadata": {
    "collapsed": false
   },
   "outputs": [
    {
     "data": {
      "text/plain": [
       "0.54992677406470514"
      ]
     },
     "execution_count": 24,
     "metadata": {},
     "output_type": "execute_result"
    }
   ],
   "source": [
    "#checking accuracy on test set\n",
    "accuracy_score(y_test, y_pred)"
   ]
  },
  {
   "cell_type": "markdown",
   "metadata": {},
   "source": [
    "<b>Decision Tree accuracy is 54%</b>"
   ]
  },
  {
   "cell_type": "code",
   "execution_count": 25,
   "metadata": {
    "collapsed": false
   },
   "outputs": [
    {
     "data": {
      "text/html": [
       "<div>\n",
       "<table border=\"1\" class=\"dataframe\">\n",
       "  <thead>\n",
       "    <tr style=\"text-align: right;\">\n",
       "      <th></th>\n",
       "      <th>0</th>\n",
       "      <th>1</th>\n",
       "      <th>2</th>\n",
       "      <th>3</th>\n",
       "      <th>4</th>\n",
       "      <th>5</th>\n",
       "      <th>6</th>\n",
       "    </tr>\n",
       "  </thead>\n",
       "  <tbody>\n",
       "    <tr>\n",
       "      <th>0</th>\n",
       "      <td>0.082645</td>\n",
       "      <td>0.216942</td>\n",
       "      <td>0.537190</td>\n",
       "      <td>0.086777</td>\n",
       "      <td>0.002066</td>\n",
       "      <td>0.0</td>\n",
       "      <td>0.074380</td>\n",
       "    </tr>\n",
       "    <tr>\n",
       "      <th>1</th>\n",
       "      <td>0.086957</td>\n",
       "      <td>0.260870</td>\n",
       "      <td>0.652174</td>\n",
       "      <td>0.000000</td>\n",
       "      <td>0.000000</td>\n",
       "      <td>0.0</td>\n",
       "      <td>0.000000</td>\n",
       "    </tr>\n",
       "    <tr>\n",
       "      <th>2</th>\n",
       "      <td>0.700000</td>\n",
       "      <td>0.000000</td>\n",
       "      <td>0.300000</td>\n",
       "      <td>0.000000</td>\n",
       "      <td>0.000000</td>\n",
       "      <td>0.0</td>\n",
       "      <td>0.000000</td>\n",
       "    </tr>\n",
       "    <tr>\n",
       "      <th>3</th>\n",
       "      <td>0.000000</td>\n",
       "      <td>0.008772</td>\n",
       "      <td>0.973684</td>\n",
       "      <td>0.000000</td>\n",
       "      <td>0.000000</td>\n",
       "      <td>0.0</td>\n",
       "      <td>0.017544</td>\n",
       "    </tr>\n",
       "    <tr>\n",
       "      <th>4</th>\n",
       "      <td>0.037505</td>\n",
       "      <td>0.264389</td>\n",
       "      <td>0.596732</td>\n",
       "      <td>0.047531</td>\n",
       "      <td>0.000743</td>\n",
       "      <td>0.0</td>\n",
       "      <td>0.053101</td>\n",
       "    </tr>\n",
       "  </tbody>\n",
       "</table>\n",
       "</div>"
      ],
      "text/plain": [
       "          0         1         2         3         4    5         6\n",
       "0  0.082645  0.216942  0.537190  0.086777  0.002066  0.0  0.074380\n",
       "1  0.086957  0.260870  0.652174  0.000000  0.000000  0.0  0.000000\n",
       "2  0.700000  0.000000  0.300000  0.000000  0.000000  0.0  0.000000\n",
       "3  0.000000  0.008772  0.973684  0.000000  0.000000  0.0  0.017544\n",
       "4  0.037505  0.264389  0.596732  0.047531  0.000743  0.0  0.053101"
      ]
     },
     "execution_count": 25,
     "metadata": {},
     "output_type": "execute_result"
    }
   ],
   "source": [
    "pd.DataFrame(y_pred_prob).head()\n"
   ]
  },
  {
   "cell_type": "code",
   "execution_count": 26,
   "metadata": {
    "collapsed": false
   },
   "outputs": [
    {
     "data": {
      "text/plain": [
       "array(['Aggravated Assault', 'Burglary', 'Larceny', 'Motor Vehicle Theft',\n",
       "       'Murder', 'Non-Negligent Manslaughter', 'Robbery'], dtype=object)"
      ]
     },
     "execution_count": 26,
     "metadata": {},
     "output_type": "execute_result"
    }
   ],
   "source": [
    "clf.best_estimator_.classes_"
   ]
  },
  {
   "cell_type": "markdown",
   "metadata": {},
   "source": [
    "<h3>Random Forest Classifier<h3>"
   ]
  },
  {
   "cell_type": "code",
   "execution_count": 27,
   "metadata": {
    "collapsed": true
   },
   "outputs": [],
   "source": [
    "#pipeline for random forests\n",
    "pipeline2 = make_pipeline(preprocessing.StandardScaler(), \n",
    "                         RandomForestClassifier(max_features=None))"
   ]
  },
  {
   "cell_type": "code",
   "execution_count": 28,
   "metadata": {
    "collapsed": true
   },
   "outputs": [],
   "source": [
    "#hyper parameter tuning\n",
    "hyperparameters2 = { 'randomforestclassifier__criterion' : ['gini', 'entropy'],\n",
    "                  'randomforestclassifier__max_depth': [None, 100, 50, 10, 5]}\n"
   ]
  },
  {
   "cell_type": "code",
   "execution_count": 29,
   "metadata": {
    "collapsed": false
   },
   "outputs": [],
   "source": [
    "#grid searching parameters\n",
    "clf2 = gridSearch(pipeline2,hyperparameters2)"
   ]
  },
  {
   "cell_type": "code",
   "execution_count": 30,
   "metadata": {
    "collapsed": false
   },
   "outputs": [
    {
     "name": "stdout",
     "output_type": "stream",
     "text": [
      "{'randomforestclassifier__max_depth': 10, 'randomforestclassifier__criterion': 'gini'}\n",
      "True\n"
     ]
    }
   ],
   "source": [
    "#displaying best classifier parameters \n",
    "print(clf2.best_params_)\n",
    "print(clf2.refit)\n"
   ]
  },
  {
   "cell_type": "code",
   "execution_count": 31,
   "metadata": {
    "collapsed": true
   },
   "outputs": [],
   "source": [
    "#predicting on test set\n",
    "y_pred = clf2.predict(X_test)\n",
    "y_pred_prob = clf2.predict_proba(X_test)"
   ]
  },
  {
   "cell_type": "code",
   "execution_count": 32,
   "metadata": {
    "collapsed": false
   },
   "outputs": [
    {
     "data": {
      "text/plain": [
       "Larceny                       8790\n",
       "Burglary                      4934\n",
       "Aggravated Assault            1025\n",
       "Robbery                        214\n",
       "Motor Vehicle Theft             57\n",
       "Murder                           1\n",
       "Non-Negligent Manslaughter       1\n",
       "dtype: int64"
      ]
     },
     "execution_count": 32,
     "metadata": {},
     "output_type": "execute_result"
    }
   ],
   "source": [
    "#distribution across crime types \n",
    "pd.Series(y_pred).value_counts()"
   ]
  },
  {
   "cell_type": "code",
   "execution_count": 33,
   "metadata": {
    "collapsed": false
   },
   "outputs": [
    {
     "data": {
      "text/plain": [
       "0.59352949008121425"
      ]
     },
     "execution_count": 33,
     "metadata": {},
     "output_type": "execute_result"
    }
   ],
   "source": [
    "#accuracy on test set\n",
    "accuracy_score(y_test, y_pred)"
   ]
  },
  {
   "cell_type": "markdown",
   "metadata": {},
   "source": [
    "<b>Accuracy of Random forest classifier 59%</b>"
   ]
  },
  {
   "cell_type": "markdown",
   "metadata": {},
   "source": [
    "<h3>Adaboost Classifier</h3>"
   ]
  },
  {
   "cell_type": "code",
   "execution_count": 34,
   "metadata": {
    "collapsed": true
   },
   "outputs": [],
   "source": [
    "#pipeline for adaboost\n",
    "pipeline3 = make_pipeline(preprocessing.StandardScaler(), \n",
    "                         AdaBoostClassifier())"
   ]
  },
  {
   "cell_type": "code",
   "execution_count": 35,
   "metadata": {
    "collapsed": true
   },
   "outputs": [],
   "source": [
    "#hyper parameter setting\n",
    "hyperparameters3 = {  'adaboostclassifier__algorithm' : ['SAMME', 'SAMME.R'],\n",
    "                  'adaboostclassifier__n_estimators': [100, 50, 35, 25, 10]}\n"
   ]
  },
  {
   "cell_type": "code",
   "execution_count": 36,
   "metadata": {
    "collapsed": true
   },
   "outputs": [],
   "source": [
    "#grid searching through parameters\n",
    "clf3 = gridSearch(pipeline3,hyperparameters3)"
   ]
  },
  {
   "cell_type": "code",
   "execution_count": 37,
   "metadata": {
    "collapsed": false
   },
   "outputs": [
    {
     "name": "stdout",
     "output_type": "stream",
     "text": [
      "{'adaboostclassifier__algorithm': 'SAMME.R', 'adaboostclassifier__n_estimators': 35}\n",
      "True\n"
     ]
    }
   ],
   "source": [
    "#displaying best parameters\n",
    "print(clf3.best_params_)\n",
    "print(clf3.refit)"
   ]
  },
  {
   "cell_type": "code",
   "execution_count": 38,
   "metadata": {
    "collapsed": true
   },
   "outputs": [],
   "source": [
    "#predicting for test dataset\n",
    "y_pred = clf3.predict(X_test)\n",
    "y_pred_prob = clf3.predict_proba(X_test)"
   ]
  },
  {
   "cell_type": "code",
   "execution_count": 39,
   "metadata": {
    "collapsed": false
   },
   "outputs": [
    {
     "data": {
      "text/plain": [
       "Larceny                       11581\n",
       "Burglary                       3031\n",
       "Aggravated Assault              391\n",
       "Non-Negligent Manslaughter       19\n",
       "dtype: int64"
      ]
     },
     "execution_count": 39,
     "metadata": {},
     "output_type": "execute_result"
    }
   ],
   "source": [
    "#distribution of prediction labels\n",
    "pd.Series(y_pred).value_counts()"
   ]
  },
  {
   "cell_type": "code",
   "execution_count": 40,
   "metadata": {
    "collapsed": false
   },
   "outputs": [
    {
     "data": {
      "text/plain": [
       "0.54979363600053255"
      ]
     },
     "execution_count": 40,
     "metadata": {},
     "output_type": "execute_result"
    }
   ],
   "source": [
    "#accuracy score on test set\n",
    "accuracy_score(y_test, y_pred)"
   ]
  },
  {
   "cell_type": "markdown",
   "metadata": {},
   "source": [
    "<b>Adabost accuracy was found to be 55%</b>"
   ]
  },
  {
   "cell_type": "markdown",
   "metadata": {},
   "source": [
    "<h3>K Nearest Neighbors Classifier<h3>"
   ]
  },
  {
   "cell_type": "code",
   "execution_count": 41,
   "metadata": {
    "collapsed": true
   },
   "outputs": [],
   "source": [
    "#pipeline for nearest neighbors\n",
    "pipeline4 = make_pipeline(preprocessing.StandardScaler(), \n",
    "                         KNeighborsClassifier())"
   ]
  },
  {
   "cell_type": "code",
   "execution_count": 42,
   "metadata": {
    "collapsed": true
   },
   "outputs": [],
   "source": [
    "#hyper parameter setting\n",
    "hyperparameters4 = {  'kneighborsclassifier__n_neighbors' : [4,5,6,7],\n",
    "                  'kneighborsclassifier__weights': ['distance'],\n",
    "                   'kneighborsclassifier__algorithm': ['auto']}\n"
   ]
  },
  {
   "cell_type": "code",
   "execution_count": 43,
   "metadata": {
    "collapsed": false
   },
   "outputs": [],
   "source": [
    "#grid search parameters\n",
    "clf4 = gridSearch(pipeline4,hyperparameters4)"
   ]
  },
  {
   "cell_type": "code",
   "execution_count": 44,
   "metadata": {
    "collapsed": false
   },
   "outputs": [
    {
     "name": "stdout",
     "output_type": "stream",
     "text": [
      "{'kneighborsclassifier__algorithm': 'auto', 'kneighborsclassifier__weights': 'distance', 'kneighborsclassifier__n_neighbors': 7}\n",
      "True\n"
     ]
    }
   ],
   "source": [
    "#displaying best parameter\n",
    "print(clf4.best_params_)\n",
    "print(clf4.refit)"
   ]
  },
  {
   "cell_type": "code",
   "execution_count": 45,
   "metadata": {
    "collapsed": true
   },
   "outputs": [],
   "source": [
    "#predicting on test set\n",
    "y_pred = clf4.predict(X_test)\n",
    "y_pred_prob = clf4.predict_proba(X_test)"
   ]
  },
  {
   "cell_type": "code",
   "execution_count": 46,
   "metadata": {
    "collapsed": false
   },
   "outputs": [
    {
     "data": {
      "text/plain": [
       "Larceny                       7004\n",
       "Burglary                      4143\n",
       "Aggravated Assault            1587\n",
       "Robbery                       1245\n",
       "Motor Vehicle Theft            992\n",
       "Murder                          49\n",
       "Non-Negligent Manslaughter       2\n",
       "dtype: int64"
      ]
     },
     "execution_count": 46,
     "metadata": {},
     "output_type": "execute_result"
    }
   ],
   "source": [
    "pd.Series(y_pred).value_counts()"
   ]
  },
  {
   "cell_type": "code",
   "execution_count": 47,
   "metadata": {
    "collapsed": false
   },
   "outputs": [
    {
     "data": {
      "text/plain": [
       "0.87338570097190782"
      ]
     },
     "execution_count": 47,
     "metadata": {},
     "output_type": "execute_result"
    }
   ],
   "source": [
    "#test set accuracy\n",
    "accuracy_score(y_test, y_pred)"
   ]
  },
  {
   "cell_type": "markdown",
   "metadata": {},
   "source": [
    "<b>Accuracy of K Nearest Neighbors was found to be 86% </b>"
   ]
  },
  {
   "cell_type": "markdown",
   "metadata": {},
   "source": [
    "<h3>Saving the Model</h3>"
   ]
  },
  {
   "cell_type": "code",
   "execution_count": 48,
   "metadata": {
    "collapsed": false
   },
   "outputs": [
    {
     "data": {
      "text/plain": [
       "['../trained_model/knn_classifier.pkl']"
      ]
     },
     "execution_count": 48,
     "metadata": {},
     "output_type": "execute_result"
    }
   ],
   "source": [
    "#saving the model\n",
    "joblib.dump(clf4, '../trained_model/knn_classifier.pkl')"
   ]
  },
  {
   "cell_type": "code",
   "execution_count": 49,
   "metadata": {
    "collapsed": false
   },
   "outputs": [
    {
     "data": {
      "text/plain": [
       "0.87338570097190782"
      ]
     },
     "execution_count": 49,
     "metadata": {},
     "output_type": "execute_result"
    }
   ],
   "source": [
    "#reloading and test\n",
    "clf5 = joblib.load('../trained_model/knn_classifier.pkl')\n",
    "y_pred = clf5.predict(X_test)\n",
    "y_pred_prob = clf5.predict_proba(X_test)\n",
    "accuracy_score(y_test, y_pred)"
   ]
  },
  {
   "cell_type": "markdown",
   "metadata": {},
   "source": [
    "<h3> Simulation of User using the model<h3>"
   ]
  },
  {
   "cell_type": "code",
   "execution_count": 50,
   "metadata": {
    "collapsed": false
   },
   "outputs": [],
   "source": [
    "import geocoder\n",
    "#method to get address from user , month of year and time of day and predicting using the model \n",
    "def get_data():\n",
    "    input_add = input(\"Enter address, comma separated\")\n",
    "    lat_long = geocoder.google(input_add).latlng\n",
    "    print(lat_long)\n",
    "    X = float(lat_long[1])\n",
    "    Y = float(lat_long[0])\n",
    "    month = int(input(\"Enter Month of Year : 1-12 : \"))\n",
    "    time_24hr = int(input(\"Enter time : 24hr clock : \"))\n",
    "    \n",
    "    input_data = {'X' : X, 'Y' : Y, 'OccurredFrom_Date_Month' : month, 'OccurredFrom_Time' : time_24hr}\n",
    "    l = clf4.predict_proba(pd.DataFrame([input_data]))[0].tolist()\n",
    "    z = zip(clf4.classes_.tolist(),l)\n",
    "    for i in z:\n",
    "        print(i)\n",
    "    return z\n",
    "\n",
    "    "
   ]
  },
  {
   "cell_type": "code",
   "execution_count": 51,
   "metadata": {
    "collapsed": false
   },
   "outputs": [
    {
     "data": {
      "text/plain": [
       "array(['Aggravated Assault', 'Burglary', 'Larceny', 'Motor Vehicle Theft',\n",
       "       'Murder', 'Non-Negligent Manslaughter', 'Robbery'], dtype=object)"
      ]
     },
     "execution_count": 51,
     "metadata": {},
     "output_type": "execute_result"
    }
   ],
   "source": [
    "clf4.classes_"
   ]
  },
  {
   "cell_type": "code",
   "execution_count": 67,
   "metadata": {
    "collapsed": false
   },
   "outputs": [
    {
     "name": "stdout",
     "output_type": "stream",
     "text": [
      "Enter address, comma separated100,clinton ave south, rochester, 14604\n",
      "[43.1545777, -77.6046532]\n",
      "Enter Month of Year : 1-12 : 12\n",
      "Enter time : 24hr clock : 200\n",
      "('Aggravated Assault', 0.0)\n",
      "('Burglary', 0.5714293406973179)\n",
      "('Larceny', 0.42857065930268207)\n",
      "('Motor Vehicle Theft', 0.0)\n",
      "('Murder', 0.0)\n",
      "('Non-Negligent Manslaughter', 0.0)\n",
      "('Robbery', 0.0)\n"
     ]
    }
   ],
   "source": [
    "#sample address - 100,clinton ave south, rochester, 14604\n",
    "output_data = get_data()"
   ]
  },
  {
   "cell_type": "code",
   "execution_count": 60,
   "metadata": {
    "collapsed": true
   },
   "outputs": [],
   "source": [
    "#defining function to work with tableau, it gets input from tableau\n",
    "def crimeKnnClassifier(address,month,time_24hr):\n",
    "    #load saved model\n",
    "    clf = joblib.load('/Users/ajaykliyara/Documents/cs63/final_project/trained_model/knn_classifier.pkl')\n",
    "    #get lat long for address\n",
    "    lat_long = geocoder.google(address).latlng\n",
    "    #print(clf)\n",
    "    #print(lat_long)\n",
    "    X = float(lat_long[1])\n",
    "    Y = float(lat_long[0])\n",
    "    #get month and time of day from user\n",
    "    input_data = {'X' : X, 'Y' : Y, 'OccurredFrom_Date_Month' : month, 'OccurredFrom_Time' : time_24hr}\n",
    "    input_data = pd.DataFrame([input_data])\n",
    "    input_data = input_data.loc[:,['X','Y','OccurredFrom_Date_Month','OccurredFrom_Time']]\n",
    "    #predict probability of crime\n",
    "    l = clf.predict_proba(input_data)[0].tolist()\n",
    "    z = zip(clf.classes_.tolist(),l)\n",
    "    #print(z)\n",
    "    lst=[]\n",
    "    for i in z:\n",
    "        lst.append(i[1])\n",
    "    \n",
    "    #return list of probability of each crime type\n",
    "    return lst"
   ]
  },
  {
   "cell_type": "code",
   "execution_count": 61,
   "metadata": {
    "collapsed": false
   },
   "outputs": [
    {
     "name": "stdout",
     "output_type": "stream",
     "text": [
      "[0.16607894025944864, 0.0, 0.39862834017462995, 0.0, 0.0, 0.0, 0.4352927195659213]\n",
      "['Aggravated Assault' 'Burglary' 'Larceny' 'Motor Vehicle Theft' 'Murder'\n",
      " 'Non-Negligent Manslaughter' 'Robbery']\n"
     ]
    }
   ],
   "source": [
    "result = crimeKnnClassifier('100,Clinton Ave S,Rochester, 14604',6,200)\n",
    "print(result)\n",
    "print(clf.classes_)"
   ]
  },
  {
   "cell_type": "code",
   "execution_count": 62,
   "metadata": {
    "collapsed": false
   },
   "outputs": [
    {
     "name": "stdout",
     "output_type": "stream",
     "text": [
      "[0.0, 0.49338741931736657, 0.3843666370276221, 0.0696878366727635, 0.0, 0.0, 0.05255810698224795]\n",
      "['Aggravated Assault' 'Burglary' 'Larceny' 'Motor Vehicle Theft' 'Murder'\n",
      " 'Non-Negligent Manslaughter' 'Robbery']\n"
     ]
    }
   ],
   "source": [
    "result = crimeKnnClassifier('798,Jay St,Rochester,NY, 14611',2,1815)\n",
    "print(result)\n",
    "print(clf.classes_)"
   ]
  },
  {
   "cell_type": "markdown",
   "metadata": {},
   "source": [
    "<h3>Deploying to TabPy Server</h3>"
   ]
  },
  {
   "cell_type": "code",
   "execution_count": 63,
   "metadata": {
    "collapsed": true
   },
   "outputs": [],
   "source": [
    "#reference : https://github.com/tableau/TabPy/blob/master/client.md\n",
    "#connecting to tabpy client\n",
    "client = tabpy_client.Client('http://localhost:9004/')"
   ]
  },
  {
   "cell_type": "code",
   "execution_count": 64,
   "metadata": {
    "collapsed": false
   },
   "outputs": [],
   "source": [
    "#generate schema - defined input and output of model\n",
    "from tabpy_client.schema import generate_schema\n",
    "schema = generate_schema(\n",
    "  input={'address': '100,Clinton Ave S, Rochester, NY, 14604',\n",
    "         'month': 6,\n",
    "         'time_24hr' : 1400},\n",
    "  output=[0.0,0.2,0.4,0.2,0.2],\n",
    "  input_description={'address': 'address separated by comma',\n",
    "                     'month': 'month of the year',\n",
    "                     'time_24hr' : 'time of the day'},\n",
    "  output_description='probability of a crime type at the given location, month and time')"
   ]
  },
  {
   "cell_type": "markdown",
   "metadata": {},
   "source": [
    "<b> Please make sure TabPy server is running before continuing with code execution</b>"
   ]
  },
  {
   "cell_type": "code",
   "execution_count": 65,
   "metadata": {
    "collapsed": false
   },
   "outputs": [],
   "source": [
    "#deploying model to tabpy server\n",
    "client.deploy('crimeKnnClassifier', crimeKnnClassifier, \n",
    "              'Returns probabilites of Crime time for given address, month and time of day', schema = schema, \n",
    "              override=True)"
   ]
  },
  {
   "cell_type": "code",
   "execution_count": 66,
   "metadata": {
    "collapsed": false
   },
   "outputs": [
    {
     "data": {
      "text/plain": [
       "{'model': 'crimeKnnClassifier',\n",
       " 'response': [0.0,\n",
       "  0.041273289263663165,\n",
       "  0.9587267107363369,\n",
       "  0.0,\n",
       "  0.0,\n",
       "  0.0,\n",
       "  0.0],\n",
       " 'uuid': 'dab568e3-4201-4fcc-9ace-47319c274ad7',\n",
       " 'version': 18}"
      ]
     },
     "execution_count": 66,
     "metadata": {},
     "output_type": "execute_result"
    }
   ],
   "source": [
    "#testing if model deployed on tabpy server can be queried\n",
    "client.query('crimeKnnClassifier','100,Clinton Ave S, Rochester, NY, 14604', 6, 1400)"
   ]
  }
 ],
 "metadata": {
  "kernelspec": {
   "display_name": "Python [Root]",
   "language": "python",
   "name": "Python [Root]"
  },
  "language_info": {
   "codemirror_mode": {
    "name": "ipython",
    "version": 3
   },
   "file_extension": ".py",
   "mimetype": "text/x-python",
   "name": "python",
   "nbconvert_exporter": "python",
   "pygments_lexer": "ipython3",
   "version": "3.5.2"
  }
 },
 "nbformat": 4,
 "nbformat_minor": 2
}
