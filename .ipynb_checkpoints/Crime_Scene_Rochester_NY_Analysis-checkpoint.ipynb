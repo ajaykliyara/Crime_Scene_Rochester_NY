{
 "cells": [
  {
   "cell_type": "markdown",
   "metadata": {},
   "source": [
    "<H4 align='left'>12/10/2017</H4> <H4 align='right' >E-63 Big Data Analytics</H4>\n",
    "\n"
   ]
  },
  {
   "cell_type": "markdown",
   "metadata": {},
   "source": [
    "<H2 align='center'>Crime Scene Rochester NY </H2>\n",
    "<H4 align='center'>A Big Data Case Study in Social Sciences</H4>\n",
    "<H4 align='right'>By : Ajay Antony Kliyara Philip</H4>"
   ]
  },
  {
   "cell_type": "markdown",
   "metadata": {},
   "source": [
    "<H3>Problem Statement</H3>\n",
    "\n",
    "<b>How safe are you in Rochester, NY ? Drive decision using data as opposed to opinion.</b>\n",
    "\n",
    "\tData > Opinion (always)\n",
    "\n",
    "<b>The objective was to allow a rochester resident / visitor to use historical data to help determine how safe they would be visiting part of the city at a specific time. </b>"
   ]
  },
  {
   "cell_type": "markdown",
   "metadata": {},
   "source": [
    "<H3>Project Objectives</H3>\n",
    "\n",
    "The answer to this question was arrived at through 4 sub questions,\n",
    "1. Exploratory Data Analysis of crime incidents in Rochester, NY from 2011 to Present. This section involved visualizing the data and understanding it better.\n",
    "2. Install and Configure TabPy Server and Client. This is required to deploy the predictive model to be used later by Tableau.\n",
    "3. Use historical data to Predict the probability of crime using SKLearn at a given location, month of the year and time of day. This section involved building a predictive model to help predict possibility of crime at a given location and time.\n",
    "4. Supplement prediction with density of specific crimes at the location. This section involved visualizing the hotspots in the data by crime time. The idea was to supplement the prediction result to help the user make their decision.\n",
    "5. Build an application on top the predictive model to present the user with a user interface to consume the data. Tabpy integration with Tableau was used for this purpose."
   ]
  },
  {
   "cell_type": "markdown",
   "metadata": {},
   "source": [
    "<H3>Dataset</H3>\n",
    "\n",
    "[Violent and Property Crimes @ Rochester NY 2011 to present provided by Rochester PD.](http://data-rpdny.opendata.arcgis.com/datasets/rpd-part-i-crime-2011-to-present)"
   ]
  },
  {
   "cell_type": "markdown",
   "metadata": {},
   "source": [
    "<H3>Analysis</H3>\n",
    "\n",
    "1. [Exploratory Data Analysis](code_notebooks/1.Exploratory_Data_Analysis.ipynb)\n",
    "\n",
    "2. [Setting up TabPy Server / Client](code_notebooks/2.Installing and Configuring TabPy Server and Client.pdf)\n",
    "\n",
    "3. [Predicting Crime](code_notebooks/3.Predicting_Crime.ipynb)\n",
    "\n",
    "4. [Crime Hotspots](code_notebooks/4.Clustering_Crime.ipynb)\n",
    "\n",
    "5. [Interface for Predictive Model using Tableau](code_notebooks/5.Application using Tableau & TabPy.pdf)"
   ]
  },
  {
   "cell_type": "markdown",
   "metadata": {},
   "source": [
    "<H3>Results</H3>\n",
    "\n",
    "All the project objectives listed above were achieved. Exploratory Analysis helped understand the data Larceny was the most frequent crime type. More violent crimes like murder was at the lower end of the spectrum. It also helped determine key features that could help in predicting crime such as location, time of year and day. \n",
    "KNN Classifier was able to achieve a relatively good accuracy of 87% after balancing the dataset. It was able to predict probability of various crime types given a location, time of day and month of the year. \n",
    "Hotspots for each crime type was determined using seaborn KDEPlot. These plots were supplemented with the location user plans to visit to give them a perspective and aid in the decision if they have to venture into that part of time at that time.\n",
    "Tableau (Leader in BI tools per Gartner) was integrated with the previously derived KNN Classifier using the TabPy Client / Server. Allowing for a better interface for the user to interact with the data."
   ]
  },
  {
   "cell_type": "markdown",
   "metadata": {},
   "source": [
    "<H3> Demo Videos </H3>"
   ]
  },
  {
   "cell_type": "markdown",
   "metadata": {},
   "source": [
    "<H3>Potential Next Steps</H3>\n",
    "\n",
    "1. Build a website which can use this model thus allowing anyone to interact with the application\n",
    "\n",
    "2. Analysis can be supplemented with other data sets such as population at a location etc\n",
    "\n",
    "3. Expand the solution to other cities states\n",
    "\n",
    "4. Build more robust, complex models for better accuracy\n",
    "\n",
    "5. Deploy TabPy server to AWS\n",
    "\n",
    "6. Use distributed ML such as Spark ML to help deal with even larger volumes of data."
   ]
  }
 ],
 "metadata": {
  "kernelspec": {
   "display_name": "Python [Root]",
   "language": "python",
   "name": "Python [Root]"
  },
  "language_info": {
   "codemirror_mode": {
    "name": "ipython",
    "version": 3
   },
   "file_extension": ".py",
   "mimetype": "text/x-python",
   "name": "python",
   "nbconvert_exporter": "python",
   "pygments_lexer": "ipython3",
   "version": "3.5.2"
  }
 },
 "nbformat": 4,
 "nbformat_minor": 2
}
