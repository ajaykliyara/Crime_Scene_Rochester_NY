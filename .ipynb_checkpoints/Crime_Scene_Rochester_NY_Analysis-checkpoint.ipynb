{
 "cells": [
  {
   "cell_type": "markdown",
   "metadata": {},
   "source": [
    "<H4 align='left'>12/10/2017</H4> <H4 align='right' >E-63 Big Data Analytics</H4>\n",
    "\n"
   ]
  },
  {
   "cell_type": "markdown",
   "metadata": {},
   "source": [
    "<H2 align='center'>Crime Scene Rochester NY </H2>\n",
    "<H4 align='center'>A Big Data Case Study in Social Sciences</H4>\n",
    "<H4 align='right'>By : Ajay Antony Kliyara Philip</H4>"
   ]
  },
  {
   "cell_type": "markdown",
   "metadata": {},
   "source": [
    "<H3>Problem Statement</H3>\n",
    "\n",
    "<b>How safe are you in Rochester, NY ? Drive decision using data as opposed to opinion.\n",
    "\tData > Opinion (always)\n",
    "\n",
    "The objective was to allow a rochester resident / visitor to use historical data to help determine how safe they would be visiting part of the city at a specific time. </b>"
   ]
  },
  {
   "cell_type": "markdown",
   "metadata": {},
   "source": [
    "<H3>Project Objectives</H3>\n",
    "\n",
    "The answer to this question was arrived at through 4 sub questions,\n",
    "1. Exploratory Data Analysis of crime incidents in Rochester, NY from 2011 to Present\n",
    "2. Use historical data to Predict the probability of crime at a given location, month of the year and time of day.\n",
    "3. Supplement prediction with density of specific crimes at the location\n",
    "4. Build an application on top the predictive model to present the user with a user interface to consume the data. Tabpy integration with Tableau was used for this purpose."
   ]
  },
  {
   "cell_type": "markdown",
   "metadata": {},
   "source": [
    "<H3>Dataset</H3>\n",
    "\n",
    "[Violent and Property Crimes @ Rochester NY 2011 to present provided by Rochester PD.](http://data-rpdny.opendata.arcgis.com/datasets/rpd-part-i-crime-2011-to-present)"
   ]
  },
  {
   "cell_type": "markdown",
   "metadata": {},
   "source": [
    "<H3>Analysis</H3>\n",
    "\n",
    "1. Exploratory Data Analysis\n",
    "2. Setting up TabPy Server / Client\n",
    "3. Predicting Crime\n",
    "4. Crime Hotspots\n",
    "5. Interface for Predictive Model using Tableau"
   ]
  },
  {
   "cell_type": "markdown",
   "metadata": {},
   "source": [
    "<H3>Results</H3>"
   ]
  },
  {
   "cell_type": "markdown",
   "metadata": {},
   "source": [
    "<H3> Demo Videos </H3>"
   ]
  },
  {
   "cell_type": "markdown",
   "metadata": {},
   "source": [
    "<H3>Potential Next Steps</H3>"
   ]
  }
 ],
 "metadata": {
  "kernelspec": {
   "display_name": "Python [Root]",
   "language": "python",
   "name": "Python [Root]"
  },
  "language_info": {
   "codemirror_mode": {
    "name": "ipython",
    "version": 3
   },
   "file_extension": ".py",
   "mimetype": "text/x-python",
   "name": "python",
   "nbconvert_exporter": "python",
   "pygments_lexer": "ipython3",
   "version": "3.5.2"
  }
 },
 "nbformat": 4,
 "nbformat_minor": 2
}
